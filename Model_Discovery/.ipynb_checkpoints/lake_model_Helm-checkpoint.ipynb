{
 "cells": [
  {
   "cell_type": "markdown",
   "metadata": {},
   "source": [
    "# Dependencies"
   ]
  },
  {
   "cell_type": "code",
   "execution_count": 1,
   "metadata": {
    "tags": []
   },
   "outputs": [
    {
     "name": "stdout",
     "output_type": "stream",
     "text": [
      "Using device: cuda\n"
     ]
    }
   ],
   "source": [
    "import torch\n",
    "import torch.nn as nn\n",
    "import numpy as np\n",
    "import time\n",
    "import pandas as pd\n",
    "import os\n",
    "from pyDOE import lhs # Latin Hypercube Sampling\n",
    "\n",
    "# Check if CUDA is available, otherwise use CPU\n",
    "device = torch.device('cuda' if torch.cuda.is_available() else 'cpu')\n",
    "print(f\"Using device: {device}\")"
   ]
  },
  {
   "cell_type": "markdown",
   "metadata": {},
   "source": [
    "# Parameters and Import Data"
   ]
  },
  {
   "cell_type": "code",
   "execution_count": 2,
   "metadata": {
    "tags": []
   },
   "outputs": [],
   "source": [
    "file_path = os.getcwd()\n",
    "\n",
    "Nu = 256\n",
    "Nf = 1000\n",
    "a, b = 0.0, 1.0\n",
    "\n",
    "# Load True Solution and paramters\n",
    "df = pd.read_csv(f'{file_path}/synthetic_data/synthetic_data.csv')\n",
    "x_array, mtrue_array, utrue_array = np.array(df['x']), np.array(df['mtrue']), np.array(df['utrue'])\n",
    "forcing_array, dist_array = np.array(df['forcing']), np.array(df['distribution'])\n",
    "omega = np.array(df['omega'])[0]\n",
    "\n",
    "from scipy.interpolate import interp1d\n",
    "true_solution = interp1d(x_array, utrue_array)\n",
    "true_dist = interp1d(x_array, dist_array)\n",
    "true_forcing = interp1d(x_array, forcing_array)\n",
    "omega = torch.tensor(omega, dtype=torch.float32, device=device)"
   ]
  },
  {
   "cell_type": "markdown",
   "metadata": {},
   "source": [
    "# Set up Training Data"
   ]
  },
  {
   "cell_type": "code",
   "execution_count": 3,
   "metadata": {
    "tags": []
   },
   "outputs": [],
   "source": [
    "X_u_train = torch.linspace(a,b, Nu, dtype=torch.float32)[:, None]\n",
    "u_train = torch.tensor(true_solution(X_u_train), dtype=torch.float32)\n",
    "X_f_train = torch.tensor(lhs(1, Nf), dtype=torch.float32)\n",
    "dist_f_train = torch.tensor(true_dist(X_f_train), dtype=torch.float32)\n",
    "forcing_f_train = torch.tensor(true_forcing(X_f_train), dtype=torch.float32)\n",
    "\n",
    "# Move data to the selected device\n",
    "X_u_train = X_u_train.to(device)\n",
    "u_train = u_train.to(device)\n",
    "X_f_train = X_f_train.to(device)\n",
    "dist_f_train = dist_f_train.to(device)\n",
    "forcing_f_train = forcing_f_train.to(device)"
   ]
  },
  {
   "cell_type": "markdown",
   "metadata": {},
   "source": [
    "# Define Neural Network with Training Loop"
   ]
  },
  {
   "cell_type": "code",
   "execution_count": 4,
   "metadata": {
    "tags": []
   },
   "outputs": [],
   "source": [
    "class PINN(nn.Module):\n",
    "    def __init__(self, layers):\n",
    "        super(PINN, self).__init__()\n",
    "        self.layers = layers\n",
    "        self.num_layers = len(layers)\n",
    "        self.loss_function = nn.MSELoss()\n",
    "\n",
    "        # Neural Network\n",
    "        self.linears = nn.ModuleList([nn.Linear(layers[i], layers[i + 1]) for i in range(len(layers) - 1)])\n",
    "        self.linears_m = nn.ModuleList([nn.Linear(layers[i], layers[i + 1]) for i in range(len(layers) - 1)]) # separate NN for m since m varies spatially\n",
    "        self.activation = nn.Tanh()\n",
    "\n",
    "        # self.m = nn.Parameter(torch.tensor(0.1), requires_grad=True)\n",
    "        # self.m = torch.tensor(0.0, dtype=torch.float32)\n",
    "\n",
    "        # Xavier Initialization\n",
    "        for i in range(len(self.linears)):\n",
    "            nn.init.xavier_normal_(self.linears[i].weight.data, gain=1.0)\n",
    "            nn.init.xavier_normal_(self.linears_m[i].weight.data, gain=1.0)\n",
    "            if self.linears[i].bias is not None:\n",
    "                nn.init.zeros_(self.linears[i].bias.data)\n",
    "            if self.linears_m[i].bias is not None:\n",
    "                nn.init.zeros_(self.linears_m[i].bias.data)\n",
    "    \n",
    "    def forward(self, x):\n",
    "        # print(x.shape)\n",
    "        a_ = torch.tensor(a, dtype=torch.float32)\n",
    "        b_ = torch.tensor(b, dtype=torch.float32)\n",
    "        #preprocessing input \n",
    "        x = (x - a_)/(b_ - a_) #feature scaling\n",
    "        \n",
    "        identity1 = self.linears[0](x)\n",
    "        identity2 = self.linears[1](identity1)\n",
    "        for i, linear in enumerate(self.linears[:-1]):\n",
    "            x = self.activation(linear(x))\n",
    "            if i == self.num_layers - 2:\n",
    "                x += identity2\n",
    "            elif i == self.num_layers -1:\n",
    "                x += identity1\n",
    "        x = self.linears[-1](x)  # No activation on the last layer (u)\n",
    "        return x\n",
    "    \n",
    "    def m_compute(self, x):\n",
    "        # print(x.shape)\n",
    "        a_ = torch.tensor(a, dtype=torch.float32)\n",
    "        b_ = torch.tensor(b, dtype=torch.float32)\n",
    "        #preprocessing input \n",
    "        x = (x - a_)/(b_ - a_) #feature scaling\n",
    "        \n",
    "        identity1 = self.linears_m[0](x)\n",
    "        identity2 = self.linears_m[1](identity1)\n",
    "        for i, linear in enumerate(self.linears_m[:-1]):\n",
    "            x = self.activation(linear(x))\n",
    "            if i == self.num_layers - 2:\n",
    "                x += identity2\n",
    "            elif i == self.num_layers - 1:\n",
    "                x += identity1\n",
    "        x = self.linears_m[-1](x)  # No activation on the last layer (u)\n",
    "        return x\n",
    "    \n",
    "    def compute_loss(self, x_u, u_true, x_f):\n",
    "        x_f.requires_grad = True\n",
    "        # Calculate u from the network at boundary points and collocation points\n",
    "        u_f_pred = self.forward(x_f)\n",
    "        m_pred = self.m_compute(x_f)\n",
    "        \n",
    "        # Compute f (similar to TensorFlow implementation)\n",
    "        u_f_pred_grads = torch.autograd.grad(u_f_pred, x_f, grad_outputs=torch.ones_like(u_f_pred), retain_graph=True, create_graph=True)[0]\n",
    "        u_f_pred_xx = torch.autograd.grad(torch.exp(m_pred) * u_f_pred_grads, x_f, grad_outputs=torch.ones_like(u_f_pred_grads[:,[0]]), create_graph=True)[0]\n",
    "\n",
    "        rhs = forcing_f_train\n",
    "        # rhs = (torch.sin(2 * torch.pi * x_f)) \n",
    "\n",
    "\n",
    "        f_pred = - u_f_pred_xx + omega * dist_f_train * u_f_pred - rhs\n",
    "        # f_pred = - u_f_pred_xx + 10 * u_f_pred - rhs\n",
    "        \n",
    "        # Calculate the loss\n",
    "        loss_f = self.loss_function(f_pred, torch.zeros_like(f_pred)) # residual loss\n",
    "        u_pred = self.forward(x_u)\n",
    "        loss_u = self.loss_function(u_pred, u_true) # boundary loss\n",
    "        loss = loss_f + loss_u\n",
    "\n",
    "        return loss, loss_u, loss_f\n",
    "\n",
    "    def train(self, x_u, u_true, x_f, epochs, lr):\n",
    "        # Move model to the selected device\n",
    "        self.to(device) \n",
    "        # adam optimizer\n",
    "        optimizer = torch.optim.Adam(self.parameters(), lr=lr,betas=(0.9, 0.999), eps=1e-07)\n",
    "\n",
    "        for epoch in range(epochs): # loop over the dataset multiple times\n",
    "            optimizer.zero_grad()\n",
    "            loss, loss_u, loss_f = self.compute_loss(x_u, u_true, x_f)\n",
    "            loss.backward()\n",
    "            optimizer.step()\n",
    "            \n",
    "            if epoch % 500 == 0: # Print the loss every 100 epochs\n",
    "                print(f\"Epoch {epoch}, loss_misfit: {loss_u.item():1.2e}, loss_f: {loss_f.item():1.2e}, loss: {loss.item():1.2e}\")\n",
    "                # print(f\"Epoch {epoch}, loss_misfit: {loss_u.item():1.2e}, loss_f: {loss_f.item():1.2e}, loss: {loss.item():1.2e} , exp(m): {np.exp(self.m.item()):.5f}\")\n",
    "\n"
   ]
  },
  {
   "cell_type": "markdown",
   "metadata": {},
   "source": [
    "# Run Training Loop"
   ]
  },
  {
   "cell_type": "code",
   "execution_count": null,
   "metadata": {
    "tags": []
   },
   "outputs": [
    {
     "name": "stderr",
     "output_type": "stream",
     "text": [
      "/g/g20/ho32/venv_PINN_FEM/lib/python3.9/site-packages/torch/autograd/graph.py:768: UserWarning: Attempting to run cuBLAS, but there was no current CUDA context! Attempting to set the primary context... (Triggered internally at ../aten/src/ATen/cuda/CublasHandlePool.cpp:135.)\n",
      "  return Variable._execution_engine.run_backward(  # Calls into the C++ engine to run the backward pass\n"
     ]
    },
    {
     "name": "stdout",
     "output_type": "stream",
     "text": [
      "Epoch 0, loss_misfit: 1.01e+00, loss_f: 1.46e+03, loss: 1.47e+03\n",
      "Epoch 500, loss_misfit: 6.50e+00, loss_f: 6.61e+02, loss: 6.67e+02\n",
      "Epoch 1000, loss_misfit: 1.32e+00, loss_f: 2.98e+00, loss: 4.31e+00\n",
      "Epoch 1500, loss_misfit: 1.01e+00, loss_f: 1.76e-01, loss: 1.19e+00\n",
      "Epoch 2000, loss_misfit: 9.25e-01, loss_f: 8.43e-02, loss: 1.01e+00\n",
      "Epoch 2500, loss_misfit: 8.73e-01, loss_f: 6.98e-02, loss: 9.43e-01\n",
      "Epoch 3000, loss_misfit: 8.28e-01, loss_f: 6.31e-02, loss: 8.91e-01\n",
      "Epoch 3500, loss_misfit: 7.86e-01, loss_f: 5.79e-02, loss: 8.44e-01\n",
      "Epoch 4000, loss_misfit: 7.46e-01, loss_f: 8.12e-02, loss: 8.27e-01\n",
      "Epoch 4500, loss_misfit: 7.07e-01, loss_f: 6.21e-02, loss: 7.69e-01\n",
      "Epoch 5000, loss_misfit: 6.67e-01, loss_f: 1.26e-01, loss: 7.93e-01\n",
      "Epoch 5500, loss_misfit: 6.28e-01, loss_f: 4.55e-02, loss: 6.73e-01\n",
      "Epoch 6000, loss_misfit: 5.89e-01, loss_f: 5.00e-02, loss: 6.39e-01\n",
      "Epoch 6500, loss_misfit: 5.51e-01, loss_f: 1.78e-01, loss: 7.29e-01\n",
      "Epoch 7000, loss_misfit: 5.15e-01, loss_f: 5.36e-01, loss: 1.05e+00\n",
      "Epoch 7500, loss_misfit: 4.77e-01, loss_f: 3.67e-02, loss: 5.13e-01\n",
      "Epoch 8000, loss_misfit: 4.43e-01, loss_f: 4.06e-02, loss: 4.83e-01\n",
      "Epoch 8500, loss_misfit: 4.12e-01, loss_f: 3.28e-02, loss: 4.44e-01\n",
      "Epoch 9000, loss_misfit: 3.85e-01, loss_f: 2.00e-01, loss: 5.84e-01\n",
      "Epoch 9500, loss_misfit: 3.60e-01, loss_f: 3.63e-02, loss: 3.96e-01\n",
      "Epoch 10000, loss_misfit: 3.39e-01, loss_f: 3.13e-02, loss: 3.71e-01\n",
      "Epoch 10500, loss_misfit: 3.23e-01, loss_f: 3.11e-02, loss: 3.54e-01\n",
      "Epoch 11000, loss_misfit: 3.09e-01, loss_f: 3.07e-02, loss: 3.40e-01\n",
      "Epoch 11500, loss_misfit: 3.00e-01, loss_f: 2.50e-01, loss: 5.49e-01\n",
      "Epoch 12000, loss_misfit: 2.90e-01, loss_f: 3.01e-02, loss: 3.20e-01\n",
      "Epoch 12500, loss_misfit: 2.84e-01, loss_f: 2.81e-02, loss: 3.12e-01\n",
      "Epoch 13000, loss_misfit: 2.79e-01, loss_f: 2.71e-02, loss: 3.06e-01\n",
      "Epoch 13500, loss_misfit: 2.76e-01, loss_f: 4.10e-02, loss: 3.17e-01\n",
      "Epoch 14000, loss_misfit: 2.74e-01, loss_f: 2.79e-01, loss: 5.53e-01\n",
      "Epoch 14500, loss_misfit: 2.70e-01, loss_f: 2.49e-02, loss: 2.95e-01\n"
     ]
    }
   ],
   "source": [
    "layers = [1, 50, 50, 50, 50, 50, 50, 1]\n",
    "model = PINN(layers)\n",
    "model.to(device)\n",
    "epochs = 50000\n",
    "learning_rate = 1e-4\n",
    "\n",
    "start_time = time.time()\n",
    "model.train(X_u_train, u_train, X_f_train, epochs, learning_rate)\n",
    "Adam_time = time.time() - start_time\n",
    "print('Training time: {:.4f} seconds'.format((Adam_time)))\n"
   ]
  },
  {
   "cell_type": "markdown",
   "metadata": {},
   "source": [
    "## LBFGS for Optimization Refinement"
   ]
  },
  {
   "cell_type": "code",
   "execution_count": 17,
   "metadata": {
    "tags": []
   },
   "outputs": [
    {
     "name": "stdout",
     "output_type": "stream",
     "text": [
      "LBFGS: Loss_misfit: 1.40e-03, loss_f: 1.56e-04, loss: 1.56e-03\n",
      "LBFGS: Loss_misfit: 1.40e-03, loss_f: 1.56e-04, loss: 1.56e-03\n",
      "LBFGS: Loss_misfit: 1.40e-03, loss_f: 1.56e-04, loss: 1.56e-03\n",
      "LBFGS: Loss_misfit: 1.40e-03, loss_f: 1.56e-04, loss: 1.56e-03\n",
      "LBFGS: Loss_misfit: 1.40e-03, loss_f: 1.56e-04, loss: 1.56e-03\n",
      "LBFGS: Loss_misfit: 1.40e-03, loss_f: 1.56e-04, loss: 1.56e-03\n",
      "LBFGS: Loss_misfit: 1.40e-03, loss_f: 1.56e-04, loss: 1.56e-03\n",
      "LBFGS: Loss_misfit: 1.40e-03, loss_f: 1.56e-04, loss: 1.56e-03\n",
      "LBFGS: Loss_misfit: 1.40e-03, loss_f: 1.56e-04, loss: 1.56e-03\n",
      "LBFGS: Loss_misfit: 1.40e-03, loss_f: 1.56e-04, loss: 1.56e-03\n"
     ]
    }
   ],
   "source": [
    "start_time1 = time.time()\n",
    "## L-BFGS\n",
    "optimizer = torch.optim.LBFGS(model.parameters(), lr=1, max_iter=50000, tolerance_grad=1e-8, history_size=100, line_search_fn=\"strong_wolfe\")\n",
    "def closure():\n",
    "    optimizer.zero_grad()\n",
    "    loss, loss_u, loss_f = model.compute_loss(X_u_train, u_train, X_f_train)\n",
    "    loss.backward()\n",
    "    return loss\n",
    "for lbfgs_iter in range(10):\n",
    "    optimizer.step(closure)\n",
    "    loss, loss_u, loss_f = model.compute_loss(X_u_train, u_train, X_f_train)\n",
    "    print(f\"LBFGS: Loss_misfit: {loss_u.item():1.2e}, loss_f: {loss_f.item():1.2e}, loss: {loss.item():1.2e}\")\n",
    "    # print(f\"LBFGS: Loss_misfit: {loss_u.item():1.2e}, loss_f: {loss_f.item():1.2e}, loss: {loss.item():1.2e} , exp(m): {np.exp(model.m.item()):.5f}\")\n",
    "LBFGS_time = time.time() - start_time1\n",
    "print('LBFGS time: {:.4f} seconds'.format((LBFGS_time)))"
   ]
  },
  {
   "cell_type": "markdown",
   "metadata": {},
   "source": [
    "# Plot Results"
   ]
  },
  {
   "cell_type": "code",
   "execution_count": 18,
   "metadata": {
    "tags": []
   },
   "outputs": [
    {
     "name": "stdout",
     "output_type": "stream",
     "text": [
      "MSE = 0.0013989355647936463\n"
     ]
    },
    {
     "data": {
      "image/png": "[encoded data removed]",
      "text/plain": [
       "<Figure size 1080x259.2 with 3 Axes>"
      ]
     },
     "metadata": {
      "needs_background": "light"
     },
     "output_type": "display_data"
    }
   ],
   "source": [
    "import matplotlib.pyplot as plt\n",
    "\n",
    "# obtain results after training\n",
    "u = model.forward(X_u_train)\n",
    "m = model.m_compute(X_u_train)\n",
    "\n",
    "# error, error_label = np.sqrt(nmse(np.exp(m.compute_vertex_values()),  np.exp(mtrue_array))), 'NRMSE'\n",
    "fig, ax = plt.subplots(nrows=1, ncols=3, figsize=(15, 3.6)) \n",
    "ax[0].plot(X_u_train.cpu(),u_train.cpu(), '-', label=f'$u_d$: $n_x = {Nu}$', markersize=2, linewidth=2.5)\n",
    "ax[0].plot(X_u_train.cpu(),u.detach().cpu(), '--', label=r'$u_{sol}$', markersize=2, linewidth=2.5)\n",
    "# ax[0].plot(x, u_analytic, 'o', label=r'$A\\sin(2\\pi x)$', markersize=2, linewidth=2.5)\n",
    "ax[0].set_xlabel(r'$x$')\n",
    "ax[0].set_ylabel(r'$u$')\n",
    "ax[0].set_title(f'Data $u_d$ vs. Solution $u$: MSE = {loss_u.item():1.2e}', fontsize=15)\n",
    "ax[0].grid()\n",
    "ax[0].legend(fontsize=12)\n",
    "ax[1].plot(x_array, mtrue_array, '-', label=r'$m_{true}$', color='tab:blue', linewidth=2.5)\n",
    "# ax[1].plot(X_u_train,np.ones(Nu), '-', label=r'$m_{true}$', color='tab:blue', linewidth=2.5)\n",
    "ax[1].plot(X_u_train.cpu(),m.detach().cpu(), '--', label=r'$m_{sol}$', color='tab:red', linewidth=2.5)\n",
    "# ax[1].set_title(f'gamma = {gamma[kappa_min_ind]:.3e}')\n",
    "ax[1].set_xlabel(r'$x$')\n",
    "ax[1].set_ylabel(r'$m$')\n",
    "ax[1].set_title(f'Recovered vs. True Param', fontsize=15)\n",
    "ax[1].grid()\n",
    "ax[1].legend(fontsize=12)\n",
    "\n",
    "ax[2].plot(X_u_train.cpu(), abs(u_train.cpu() - u.detach().cpu()))\n",
    "# ax[2].plot(x, run.g_sun.compute_vertex_values())\n",
    "ax[2].set_title(f'Data Misfit: \\n $|u - u_d|$', fontsize=15)\n",
    "ax[2].set_xlabel(r'$x$')\n",
    "ax[2].set_ylabel(r'$|u_{sol} - u_d|$')\n",
    "ax[2].grid()\n",
    "\n",
    "print(f'MSE = {torch.mean((u_train.cpu() - u.detach().cpu())**2)}')\n",
    "# plt.savefig('Helm.png', dpi=300)\n",
    "plt.show()"
   ]
  },
  {
   "cell_type": "markdown",
   "metadata": {},
   "source": [
    "# Save Results"
   ]
  },
  {
   "cell_type": "code",
   "execution_count": 49,
   "metadata": {
    "tags": []
   },
   "outputs": [],
   "source": [
    "import sys\n",
    "sys.path.append('./../')\n",
    "from utils.general import increment_path"
   ]
  },
  {
   "cell_type": "code",
   "execution_count": 41,
   "metadata": {
    "tags": []
   },
   "outputs": [
    {
     "name": "stdout",
     "output_type": "stream",
     "text": [
      "False\n"
     ]
    }
   ],
   "source": [
    "dir_name = \"PINN_results\"\n",
    "path_ = f'./log/{dir_name}'\n",
    "save_path = increment_path(path_, mkdir=True)"
   ]
  },
  {
   "cell_type": "code",
   "execution_count": 47,
   "metadata": {
    "tags": []
   },
   "outputs": [],
   "source": [
    "results = {\n",
    "    'adam_runtime': Adam_time,\n",
    "    'lbfgs_runtime': LBFGS_time,\n",
    "    'x_u_train': X_u_train.cpu().tolist(),\n",
    "    'u_train': u_train.cpu().tolist(),\n",
    "    'u_sol': u.detach().cpu().tolist(),\n",
    "    'm_sol': m.detach().cpu().tolist(),\n",
    "    'x_for_m_true': x_array.tolist(),\n",
    "    'm_true': mtrue_array.tolist(),\n",
    "}"
   ]
  },
  {
   "cell_type": "code",
   "execution_count": 48,
   "metadata": {
    "tags": []
   },
   "outputs": [],
   "source": [
    "with open(f'{save_path}/results.json', 'w') as f:\n",
    "    json.dump(results, f, indent=2)"
   ]
  },
  {
   "cell_type": "code",
   "execution_count": 42,
   "metadata": {
    "tags": []
   },
   "outputs": [],
   "source": [
    "torch.save(model.state_dict(),f'{save_path}/model.pt')"
   ]
  }
 ],
 "metadata": {
  "kernelspec": {
   "display_name": "FEM_PINN_kernel",
   "language": "python",
   "name": "fem_pinn_kernel"
  },
  "language_info": {
   "codemirror_mode": {
    "name": "ipython",
    "version": 3
   },
   "file_extension": ".py",
   "mimetype": "text/x-python",
   "name": "python",
   "nbconvert_exporter": "python",
   "pygments_lexer": "ipython3",
   "version": "3.9.12"
  }
 },
 "nbformat": 4,
 "nbformat_minor": 4
}

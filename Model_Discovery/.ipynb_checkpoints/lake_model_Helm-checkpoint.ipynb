{
 "cells": [
  {
   "cell_type": "markdown",
   "metadata": {},
   "source": [
    "# Dependencies"
   ]
  },
  {
   "cell_type": "code",
   "execution_count": 1,
   "metadata": {
    "tags": []
   },
   "outputs": [
    {
     "name": "stdout",
     "output_type": "stream",
     "text": [
      "Using device: cuda\n"
     ]
    }
   ],
   "source": [
    "import torch\n",
    "import torch.nn as nn\n",
    "import numpy as np\n",
    "import time\n",
    "import pandas as pd\n",
    "import os\n",
    "from pyDOE import lhs # Latin Hypercube Sampling\n",
    "\n",
    "# Check if CUDA is available, otherwise use CPU\n",
    "device = torch.device('cuda' if torch.cuda.is_available() else 'cpu')\n",
    "print(f\"Using device: {device}\")"
   ]
  },
  {
   "cell_type": "markdown",
   "metadata": {},
   "source": [
    "# Parameters and Import Data"
   ]
  },
  {
   "cell_type": "code",
   "execution_count": 2,
   "metadata": {
    "tags": []
   },
   "outputs": [],
   "source": [
    "file_path = os.getcwd()\n",
    "\n",
    "Nu = 256\n",
    "Nf = 1000\n",
    "a, b = 0.0, 1.0\n",
    "\n",
    "# Load True Solution and paramters\n",
    "df = pd.read_csv(f'{file_path}/synthetic_data/synthetic_data.csv')\n",
    "x_array, mtrue_array, utrue_array = np.array(df['x']), np.array(df['mtrue']), np.array(df['utrue'])\n",
    "forcing_array, dist_array = np.array(df['forcing']), np.array(df['distribution'])\n",
    "omega = np.array(df['omega'])[0]\n",
    "\n",
    "from scipy.interpolate import interp1d\n",
    "true_solution = interp1d(x_array, utrue_array)\n",
    "true_dist = interp1d(x_array, dist_array)\n",
    "true_forcing = interp1d(x_array, forcing_array)\n",
    "omega = torch.tensor(omega, dtype=torch.float32, device=device)"
   ]
  },
  {
   "cell_type": "markdown",
   "metadata": {},
   "source": [
    "# Set up Training Data"
   ]
  },
  {
   "cell_type": "code",
   "execution_count": 4,
   "metadata": {
    "tags": []
   },
   "outputs": [],
   "source": [
    "X_u_train = torch.linspace(a,b, Nu, dtype=torch.float32)[:, None]\n",
    "u_train = torch.tensor(true_solution(X_u_train), dtype=torch.float32)\n",
    "X_f_train = torch.tensor(lhs(1, Nf), dtype=torch.float32)\n",
    "dist_f_train = torch.tensor(true_dist(X_f_train), dtype=torch.float32)\n",
    "forcing_f_train = torch.tensor(true_forcing(X_f_train), dtype=torch.float32)\n",
    "\n",
    "# Move data to the selected device\n",
    "X_u_train = X_u_train.to(device)\n",
    "u_train = u_train.to(device)\n",
    "X_f_train = X_f_train.to(device)\n",
    "X_f_train.requires_grad = True\n",
    "dist_f_train = dist_f_train.to(device)\n",
    "forcing_f_train = forcing_f_train.to(device)"
   ]
  },
  {
   "cell_type": "markdown",
   "metadata": {},
   "source": [
    "# Define Neural Network with Training Loop"
   ]
  },
  {
   "cell_type": "code",
   "execution_count": 5,
   "metadata": {
    "tags": []
   },
   "outputs": [],
   "source": [
    "class PINN(nn.Module):\n",
    "    def __init__(self, layers):\n",
    "        super(PINN, self).__init__()\n",
    "        self.layers = layers\n",
    "        self.num_layers = len(layers)\n",
    "        self.loss_function = nn.MSELoss()\n",
    "\n",
    "        # Neural Network\n",
    "        self.linears = nn.ModuleList([nn.Linear(layers[i], layers[i + 1]) for i in range(len(layers) - 1)])\n",
    "        self.linears_m = nn.ModuleList([nn.Linear(layers[i], layers[i + 1]) for i in range(len(layers) - 1)]) # separate NN for m since m varies spatially\n",
    "        self.activation = nn.Tanh()\n",
    "\n",
    "        # self.m = nn.Parameter(torch.tensor(0.1), requires_grad=True)\n",
    "        # self.m = torch.tensor(0.0, dtype=torch.float32)\n",
    "\n",
    "        # Xavier Initialization\n",
    "        for i in range(len(self.linears)):\n",
    "            nn.init.xavier_normal_(self.linears[i].weight.data, gain=1.0)\n",
    "            nn.init.xavier_normal_(self.linears_m[i].weight.data, gain=1.0)\n",
    "            if self.linears[i].bias is not None:\n",
    "                nn.init.zeros_(self.linears[i].bias.data)\n",
    "            if self.linears_m[i].bias is not None:\n",
    "                nn.init.zeros_(self.linears_m[i].bias.data)\n",
    "    \n",
    "    def forward(self, x):\n",
    "        # print(x.shape)\n",
    "        a_ = torch.tensor(a, dtype=torch.float32)\n",
    "        b_ = torch.tensor(b, dtype=torch.float32)\n",
    "        #preprocessing input \n",
    "        x = (x - a_)/(b_ - a_) #feature scaling\n",
    "        # compute m first\n",
    "        x_copy = x.clone()\n",
    "        m = self.m_compute(x_copy)\n",
    "\n",
    "        # identity1 = self.linears[0](x)\n",
    "        # identity2 = self.linears[1](identity1)\n",
    "        for i, linear in enumerate(self.linears[:-1]):\n",
    "            x = self.activation(linear(x))\n",
    "            # if i == self.num_layers - 2:\n",
    "            #     x += identity2\n",
    "            # elif i == self.num_layers -1:\n",
    "            #     x += identity1\n",
    "        x = self.linears[-1](x)  # No activation on the last layer (u)\n",
    "        return x, m\n",
    "    \n",
    "    def m_compute(self, x):\n",
    "        # print(x.shape)\n",
    "        a_ = torch.tensor(a, dtype=torch.float32)\n",
    "        b_ = torch.tensor(b, dtype=torch.float32)\n",
    "        #preprocessing input \n",
    "        \n",
    "        # identity1 = self.linears_m[0](x)\n",
    "        # identity2 = self.linears_m[1](identity1)\n",
    "        for i, linear in enumerate(self.linears_m[:-1]):\n",
    "            x = self.activation(linear(x))\n",
    "            # if i == self.num_layers - 2:\n",
    "            #     x += identity2\n",
    "            # elif i == self.num_layers - 1:\n",
    "            #     x += identity1\n",
    "        x = self.linears_m[-1](x)  # No activation on the last layer (u)\n",
    "        return x\n",
    "    \n",
    "    def compute_loss(self, x_u, u_true, x_f):\n",
    "        x_f.requires_grad = True\n",
    "        # Calculate u from the network at boundary points and collocation points\n",
    "        u_f_pred, m_pred = self.forward(x_f)\n",
    "        \n",
    "        # Compute f (similar to TensorFlow implementation)\n",
    "        u_f_pred_grads = torch.autograd.grad(u_f_pred, x_f, grad_outputs=torch.ones_like(u_f_pred), retain_graph=True, create_graph=True)[0]\n",
    "        u_f_pred_xx = torch.autograd.grad(torch.exp(m_pred) * u_f_pred_grads, x_f, grad_outputs=torch.ones_like(u_f_pred_grads[:,[0]]), create_graph=True)[0]\n",
    "\n",
    "        rhs = forcing_f_train\n",
    "        # rhs = (torch.sin(2 * torch.pi * x_f)) \n",
    "\n",
    "\n",
    "        f_pred = - u_f_pred_xx + omega * dist_f_train * u_f_pred - rhs\n",
    "        # f_pred = - u_f_pred_xx + 10 * u_f_pred - rhs\n",
    "        \n",
    "        # Calculate the loss\n",
    "        loss_f = self.loss_function(f_pred, torch.zeros_like(f_pred)) # residual loss\n",
    "        u_pred, _ = self.forward(x_u)\n",
    "        loss_u = self.loss_function(u_pred, u_true) # boundary loss\n",
    "        loss = loss_f + loss_u\n",
    "\n",
    "        return loss, loss_u, loss_f\n",
    "\n",
    "    def train(self, x_u, u_true, x_f, epochs, lr):\n",
    "        # Move model to the selected device\n",
    "        self.to(device) \n",
    "        # adam optimizer\n",
    "        optimizer = torch.optim.Adam(self.parameters(), lr=lr,betas=(0.9, 0.999), eps=1e-07)\n",
    "        \n",
    "        start_time = time.time()\n",
    "        for epoch in range(epochs): # loop over the dataset multiple times\n",
    "            optimizer.zero_grad()\n",
    "            loss, loss_u, loss_f = self.compute_loss(x_u, u_true, x_f)\n",
    "            loss.backward()\n",
    "            optimizer.step()\n",
    "            \n",
    "            if (epoch+1) % 500 == 0: # Print the loss every 100 epochs\n",
    "                end_time = time.time()\n",
    "                print(f\"Epoch {(epoch+1)}, loss_misfit: {loss_u.item():1.2e}, loss_f: {loss_f.item():1.2e}, loss: {loss.item():1.2e}, run time: {end_time - start_time}s\")\n",
    "                start_time = time.time()"
   ]
  },
  {
   "cell_type": "markdown",
   "metadata": {},
   "source": [
    "# Run Training Loop"
   ]
  },
  {
   "cell_type": "code",
   "execution_count": 6,
   "metadata": {
    "tags": []
   },
   "outputs": [],
   "source": [
    "layers = [1, 50, 50, 50, 50, 50, 50, 1]\n",
    "if 'model' not in locals():\n",
    "    model = PINN(layers)\n",
    "model.to(device)\n",
    "epochs = 100000\n",
    "learning_rate = 1e-4\n"
   ]
  },
  {
   "cell_type": "code",
   "execution_count": null,
   "metadata": {
    "tags": []
   },
   "outputs": [
    {
     "name": "stdout",
     "output_type": "stream",
     "text": [
      "Epoch 500, loss_misfit: 7.46e-04, loss_f: 1.14e-03, loss: 1.89e-03, run time: -6.564542293548584s\n",
      "Epoch 1000, loss_misfit: 7.46e-04, loss_f: 1.13e-03, loss: 1.88e-03, run time: -6.564347505569458s\n",
      "Epoch 1500, loss_misfit: 7.48e-04, loss_f: 1.13e-03, loss: 1.87e-03, run time: -6.564764738082886s\n",
      "Epoch 2000, loss_misfit: 7.46e-04, loss_f: 1.12e-03, loss: 1.87e-03, run time: -6.480488300323486s\n",
      "Epoch 2500, loss_misfit: 7.46e-04, loss_f: 1.12e-03, loss: 1.86e-03, run time: -6.39422345161438s\n",
      "Epoch 3000, loss_misfit: 7.48e-04, loss_f: 1.11e-03, loss: 1.86e-03, run time: -6.3939032554626465s\n",
      "Epoch 3500, loss_misfit: 7.49e-04, loss_f: 3.23e-02, loss: 3.31e-02, run time: -6.392691612243652s\n",
      "Epoch 4000, loss_misfit: 7.46e-04, loss_f: 1.12e-03, loss: 1.87e-03, run time: -6.389510154724121s\n",
      "Epoch 4500, loss_misfit: 7.44e-04, loss_f: 1.10e-03, loss: 1.85e-03, run time: -6.392218112945557s\n",
      "Epoch 5000, loss_misfit: 7.50e-04, loss_f: 1.10e-03, loss: 1.85e-03, run time: -6.38859224319458s\n",
      "Epoch 5500, loss_misfit: 7.45e-04, loss_f: 1.10e-03, loss: 1.85e-03, run time: -6.392930746078491s\n",
      "Epoch 6000, loss_misfit: 7.45e-04, loss_f: 2.65e-03, loss: 3.39e-03, run time: -6.394907474517822s\n",
      "Epoch 6500, loss_misfit: 7.46e-04, loss_f: 3.28e-02, loss: 3.36e-02, run time: -6.393263101577759s\n",
      "Epoch 7000, loss_misfit: 7.45e-04, loss_f: 1.89e-02, loss: 1.96e-02, run time: -6.390977382659912s\n",
      "Epoch 7500, loss_misfit: 7.43e-04, loss_f: 1.08e-03, loss: 1.83e-03, run time: -6.390516757965088s\n",
      "Epoch 8000, loss_misfit: 7.51e-04, loss_f: 1.08e-03, loss: 1.83e-03, run time: -6.397473335266113s\n",
      "Epoch 8500, loss_misfit: 7.44e-04, loss_f: 1.08e-03, loss: 1.83e-03, run time: -6.391047477722168s\n",
      "Epoch 9000, loss_misfit: 7.54e-04, loss_f: 1.21e-03, loss: 1.97e-03, run time: -6.392862558364868s\n",
      "Epoch 9500, loss_misfit: 7.43e-04, loss_f: 1.08e-03, loss: 1.82e-03, run time: -6.390574932098389s\n",
      "Epoch 10000, loss_misfit: 8.03e-04, loss_f: 2.53e-02, loss: 2.61e-02, run time: -6.399717807769775s\n",
      "Epoch 10500, loss_misfit: 7.48e-04, loss_f: 1.07e-03, loss: 1.82e-03, run time: -6.3843958377838135s\n",
      "Epoch 11000, loss_misfit: 7.41e-04, loss_f: 1.07e-03, loss: 1.81e-03, run time: -6.377733469009399s\n",
      "Epoch 11500, loss_misfit: 7.42e-04, loss_f: 1.06e-03, loss: 1.81e-03, run time: -6.378509521484375s\n",
      "Epoch 12000, loss_misfit: 7.46e-04, loss_f: 1.10e-03, loss: 1.85e-03, run time: -6.38006067276001s\n",
      "Epoch 12500, loss_misfit: 7.38e-04, loss_f: 1.06e-03, loss: 1.80e-03, run time: -6.38019323348999s\n",
      "Epoch 13000, loss_misfit: 7.40e-04, loss_f: 1.06e-03, loss: 1.80e-03, run time: -6.3753533363342285s\n",
      "Epoch 13500, loss_misfit: 7.36e-04, loss_f: 1.10e-03, loss: 1.84e-03, run time: -6.376940011978149s\n",
      "Epoch 14000, loss_misfit: 7.38e-04, loss_f: 2.66e-02, loss: 2.73e-02, run time: -6.563247203826904s\n",
      "Epoch 14500, loss_misfit: 7.34e-04, loss_f: 1.85e-03, loss: 2.59e-03, run time: -6.57939076423645s\n",
      "Epoch 15000, loss_misfit: 7.32e-04, loss_f: 1.04e-03, loss: 1.77e-03, run time: -6.5769524574279785s\n",
      "Epoch 15500, loss_misfit: 7.39e-04, loss_f: 2.23e-03, loss: 2.96e-03, run time: -6.574020147323608s\n",
      "Epoch 16000, loss_misfit: 7.30e-04, loss_f: 1.04e-03, loss: 1.77e-03, run time: -6.550190448760986s\n",
      "Epoch 16500, loss_misfit: 7.34e-04, loss_f: 1.04e-03, loss: 1.77e-03, run time: -6.548208713531494s\n",
      "Epoch 17000, loss_misfit: 7.58e-04, loss_f: 1.34e-01, loss: 1.35e-01, run time: -6.547198295593262s\n",
      "Epoch 17500, loss_misfit: 7.31e-04, loss_f: 1.03e-03, loss: 1.76e-03, run time: -6.547362565994263s\n",
      "Epoch 18000, loss_misfit: 7.30e-04, loss_f: 4.55e-02, loss: 4.63e-02, run time: -6.544849157333374s\n",
      "Epoch 18500, loss_misfit: 7.28e-04, loss_f: 1.08e-03, loss: 1.81e-03, run time: -6.54801082611084s\n",
      "Epoch 19000, loss_misfit: 7.30e-04, loss_f: 3.45e-02, loss: 3.53e-02, run time: -6.5465004444122314s\n",
      "Epoch 19500, loss_misfit: 7.28e-04, loss_f: 2.75e-03, loss: 3.48e-03, run time: -6.548747777938843s\n",
      "Epoch 20000, loss_misfit: 7.27e-04, loss_f: 1.02e-03, loss: 1.74e-03, run time: -6.546443700790405s\n",
      "Epoch 20500, loss_misfit: 7.58e-04, loss_f: 3.58e-02, loss: 3.65e-02, run time: -6.548945188522339s\n",
      "Epoch 21000, loss_misfit: 7.28e-04, loss_f: 1.01e-03, loss: 1.74e-03, run time: -6.5493762493133545s\n",
      "Epoch 21500, loss_misfit: 7.25e-04, loss_f: 1.01e-03, loss: 1.74e-03, run time: -6.548273324966431s\n",
      "Epoch 22000, loss_misfit: 7.35e-04, loss_f: 1.01e-03, loss: 1.75e-03, run time: -6.547680854797363s\n",
      "Epoch 22500, loss_misfit: 7.26e-04, loss_f: 1.01e-03, loss: 1.73e-03, run time: -6.546287298202515s\n",
      "Epoch 23000, loss_misfit: 7.21e-04, loss_f: 1.00e-03, loss: 1.72e-03, run time: -6.547475814819336s\n",
      "Epoch 23500, loss_misfit: 7.28e-04, loss_f: 1.00e-03, loss: 1.73e-03, run time: -6.552454233169556s\n",
      "Epoch 24000, loss_misfit: 7.22e-04, loss_f: 9.99e-04, loss: 1.72e-03, run time: -6.5499491691589355s\n",
      "Epoch 24500, loss_misfit: 7.27e-04, loss_f: 1.00e-03, loss: 1.73e-03, run time: -6.549608469009399s\n",
      "Epoch 25000, loss_misfit: 7.21e-04, loss_f: 9.97e-04, loss: 1.72e-03, run time: -6.549135208129883s\n",
      "Epoch 25500, loss_misfit: 7.40e-04, loss_f: 1.00e-03, loss: 1.74e-03, run time: -6.551078796386719s\n",
      "Epoch 26000, loss_misfit: 7.27e-04, loss_f: 9.94e-04, loss: 1.72e-03, run time: -6.548460245132446s\n",
      "Epoch 26500, loss_misfit: 7.21e-04, loss_f: 9.91e-04, loss: 1.71e-03, run time: -6.549604177474976s\n",
      "Epoch 27000, loss_misfit: 7.19e-04, loss_f: 9.89e-04, loss: 1.71e-03, run time: -6.549394845962524s\n",
      "Epoch 27500, loss_misfit: 7.26e-04, loss_f: 9.87e-04, loss: 1.71e-03, run time: -6.549184560775757s\n",
      "Epoch 28000, loss_misfit: 7.20e-04, loss_f: 9.84e-04, loss: 1.70e-03, run time: -6.54580545425415s\n",
      "Epoch 28500, loss_misfit: 7.18e-04, loss_f: 2.72e-03, loss: 3.44e-03, run time: -6.550778865814209s\n",
      "Epoch 29000, loss_misfit: 7.13e-04, loss_f: 8.27e-03, loss: 8.99e-03, run time: -6.548295736312866s\n",
      "Epoch 29500, loss_misfit: 7.20e-04, loss_f: 7.23e-02, loss: 7.30e-02, run time: -6.5481297969818115s\n",
      "Epoch 30000, loss_misfit: 7.13e-04, loss_f: 4.46e-03, loss: 5.17e-03, run time: -6.548835754394531s\n",
      "Epoch 30500, loss_misfit: 7.11e-04, loss_f: 1.62e-02, loss: 1.69e-02, run time: -6.548014163970947s\n",
      "Epoch 31000, loss_misfit: 7.17e-04, loss_f: 2.59e-02, loss: 2.66e-02, run time: -6.454803466796875s\n",
      "Epoch 31500, loss_misfit: 7.16e-04, loss_f: 1.02e-02, loss: 1.09e-02, run time: -6.347405433654785s\n",
      "Epoch 32000, loss_misfit: 7.07e-04, loss_f: 9.63e-04, loss: 1.67e-03, run time: -6.3493804931640625s\n"
     ]
    }
   ],
   "source": [
    "start_time = time.time()\n",
    "model.train(X_u_train, u_train, X_f_train, epochs, learning_rate)\n",
    "Adam_time = time.time() - start_time\n",
    "print('Training time: {:.4f} seconds'.format((Adam_time)))"
   ]
  },
  {
   "cell_type": "markdown",
   "metadata": {},
   "source": [
    "## LBFGS for Optimization Refinement"
   ]
  },
  {
   "cell_type": "code",
   "execution_count": 12,
   "metadata": {
    "tags": []
   },
   "outputs": [
    {
     "name": "stdout",
     "output_type": "stream",
     "text": [
      "LBFGS: Loss_misfit: 7.67e-04, loss_f: 1.14e-03, loss: 1.91e-03\n",
      "LBFGS: Loss_misfit: 7.67e-04, loss_f: 1.14e-03, loss: 1.91e-03\n",
      "LBFGS: Loss_misfit: 7.67e-04, loss_f: 1.14e-03, loss: 1.91e-03\n",
      "LBFGS: Loss_misfit: 7.67e-04, loss_f: 1.14e-03, loss: 1.91e-03\n",
      "LBFGS: Loss_misfit: 7.67e-04, loss_f: 1.14e-03, loss: 1.91e-03\n",
      "LBFGS time: 0.1267 seconds\n"
     ]
    }
   ],
   "source": [
    "start_time1 = time.time()\n",
    "## L-BFGS\n",
    "optimizer = torch.optim.LBFGS(model.parameters(), lr=1, tolerance_grad=1e-10, history_size=100, line_search_fn=\"strong_wolfe\")\n",
    "def closure():\n",
    "    optimizer.zero_grad()\n",
    "    loss, loss_u, loss_f = model.compute_loss(X_u_train, u_train, X_f_train)\n",
    "    loss.backward()\n",
    "    return loss\n",
    "for lbfgs_iter in range(5):\n",
    "    optimizer.step(closure)\n",
    "    loss, loss_u, loss_f = model.compute_loss(X_u_train, u_train, X_f_train)\n",
    "    print(f\"LBFGS: Loss_misfit: {loss_u.item():1.2e}, loss_f: {loss_f.item():1.2e}, loss: {loss.item():1.2e}\")\n",
    "    # print(f\"LBFGS: Loss_misfit: {loss_u.item():1.2e}, loss_f: {loss_f.item():1.2e}, loss: {loss.item():1.2e} , exp(m): {np.exp(model.m.item()):.5f}\")\n",
    "LBFGS_time = time.time() - start_time1\n",
    "print('LBFGS time: {:.4f} seconds'.format((LBFGS_time)))"
   ]
  },
  {
   "cell_type": "markdown",
   "metadata": {},
   "source": [
    "# Plot Results"
   ]
  },
  {
   "cell_type": "code",
   "execution_count": 13,
   "metadata": {
    "tags": []
   },
   "outputs": [
    {
     "name": "stdout",
     "output_type": "stream",
     "text": [
      "MSE = 0.0007666093879379332\n"
     ]
    },
    {
     "data": {
      "image/png": "[encoded data removed]",
      "text/plain": [
       "<Figure size 1080x259.2 with 3 Axes>"
      ]
     },
     "metadata": {
      "needs_background": "light"
     },
     "output_type": "display_data"
    }
   ],
   "source": [
    "import matplotlib.pyplot as plt\n",
    "\n",
    "# obtain results after training\n",
    "u, m = model.forward(X_u_train)\n",
    "# m = model.m_compute(X_u_train)\n",
    "\n",
    "# error, error_label = np.sqrt(nmse(np.exp(m.compute_vertex_values()),  np.exp(mtrue_array))), 'NRMSE'\n",
    "fig, ax = plt.subplots(nrows=1, ncols=3, figsize=(15, 3.6)) \n",
    "ax[0].plot(X_u_train.cpu(),u_train.cpu(), '-', label=f'$u_d$: $n_x = {Nu}$', markersize=2, linewidth=2.5)\n",
    "ax[0].plot(X_u_train.cpu(),u.detach().cpu(), '--', label=r'$u_{sol}$', markersize=2, linewidth=2.5)\n",
    "# ax[0].plot(x, u_analytic, 'o', label=r'$A\\sin(2\\pi x)$', markersize=2, linewidth=2.5)\n",
    "ax[0].set_xlabel(r'$x$')\n",
    "ax[0].set_ylabel(r'$u$')\n",
    "ax[0].set_title(f'Data $u_d$ vs. Solution $u$: MSE = {loss_u.item():1.2e}', fontsize=15)\n",
    "ax[0].grid()\n",
    "ax[0].legend(fontsize=12)\n",
    "ax[1].plot(x_array, mtrue_array, '-', label=r'$m_{true}$', color='tab:blue', linewidth=2.5)\n",
    "# ax[1].plot(X_u_train,np.ones(Nu), '-', label=r'$m_{true}$', color='tab:blue', linewidth=2.5)\n",
    "ax[1].plot(X_u_train.cpu(),m.detach().cpu(), '--', label=r'$m_{sol}$', color='tab:red', linewidth=2.5)\n",
    "# ax[1].set_title(f'gamma = {gamma[kappa_min_ind]:.3e}')\n",
    "ax[1].set_xlabel(r'$x$')\n",
    "ax[1].set_ylabel(r'$m$')\n",
    "ax[1].set_title(f'Recovered vs. True Param', fontsize=15)\n",
    "ax[1].grid()\n",
    "ax[1].legend(fontsize=12)\n",
    "\n",
    "ax[2].plot(X_u_train.cpu(), abs(u_train.cpu() - u.detach().cpu()))\n",
    "# ax[2].plot(x, run.g_sun.compute_vertex_values())\n",
    "ax[2].set_title(f'Data Misfit: \\n $|u - u_d|$', fontsize=15)\n",
    "ax[2].set_xlabel(r'$x$')\n",
    "ax[2].set_ylabel(r'$|u_{sol} - u_d|$')\n",
    "ax[2].grid()\n",
    "\n",
    "print(f'MSE = {torch.mean((u_train.cpu() - u.detach().cpu())**2)}')\n",
    "# plt.savefig('Helm.png', dpi=300)\n",
    "plt.show()"
   ]
  },
  {
   "cell_type": "markdown",
   "metadata": {},
   "source": [
    "# Save Results"
   ]
  },
  {
   "cell_type": "code",
   "execution_count": 14,
   "metadata": {
    "tags": []
   },
   "outputs": [],
   "source": [
    "import sys\n",
    "import json\n",
    "sys.path.append('./../')\n",
    "from utils import increment_path"
   ]
  },
  {
   "cell_type": "code",
   "execution_count": 15,
   "metadata": {
    "tags": []
   },
   "outputs": [
    {
     "name": "stdout",
     "output_type": "stream",
     "text": [
      "True\n"
     ]
    }
   ],
   "source": [
    "dir_name = \"Notebook_PINN_results\"\n",
    "path_ = f'./log/{dir_name}'\n",
    "save_path = increment_path(path_, mkdir=True)"
   ]
  },
  {
   "cell_type": "code",
   "execution_count": 16,
   "metadata": {
    "tags": []
   },
   "outputs": [],
   "source": [
    "# define results dict\n",
    "results = {\n",
    "    'adam_runtime': Adam_time,\n",
    "    'lbfgs_runtime': LBFGS_time,\n",
    "    'x_u_train': X_u_train.cpu().tolist(),\n",
    "    'u_train': u_train.cpu().tolist(),\n",
    "    'u_sol': u.detach().cpu().tolist(),\n",
    "    'm_sol': m.detach().cpu().tolist(),\n",
    "    'x_for_m_true': x_array.tolist(),\n",
    "    'm_true': mtrue_array.tolist(),\n",
    "}"
   ]
  },
  {
   "cell_type": "code",
   "execution_count": 17,
   "metadata": {
    "tags": []
   },
   "outputs": [],
   "source": [
    "with open(f'{save_path}/results.json', 'w') as f:\n",
    "    json.dump(results, f, indent=2)"
   ]
  },
  {
   "cell_type": "code",
   "execution_count": 18,
   "metadata": {
    "tags": []
   },
   "outputs": [],
   "source": [
    "torch.save(model.state_dict(),f'{save_path}/model.pt')"
   ]
  },
  {
   "cell_type": "code",
   "execution_count": null,
   "metadata": {},
   "outputs": [],
   "source": [
    "layers = [1, 50, 50, 50, 50, 50, 50, 1]\n",
    "test_model = PINN(layers)"
   ]
  }
 ],
 "metadata": {
  "kernelspec": {
   "display_name": "FEM_PINN_kernel",
   "language": "python",
   "name": "fem_pinn_kernel"
  },
  "language_info": {
   "codemirror_mode": {
    "name": "ipython",
    "version": 3
   },
   "file_extension": ".py",
   "mimetype": "text/x-python",
   "name": "python",
   "nbconvert_exporter": "python",
   "pygments_lexer": "ipython3",
   "version": "3.9.12"
  }
 },
 "nbformat": 4,
 "nbformat_minor": 4
}

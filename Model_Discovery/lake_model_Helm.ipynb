{
 "cells": [
  {
   "cell_type": "markdown",
   "metadata": {},
   "source": [
    "# Dependencies"
   ]
  },
  {
   "cell_type": "code",
   "execution_count": 1,
   "metadata": {
    "tags": []
   },
   "outputs": [
    {
     "name": "stdout",
     "output_type": "stream",
     "text": [
      "Using device: cuda\n"
     ]
    }
   ],
   "source": [
    "import torch\n",
    "import torch.nn as nn\n",
    "import numpy as np\n",
    "import time\n",
    "import pandas as pd\n",
    "import os\n",
    "from copy import deepcopy\n",
    "import matplotlib.pyplot as plt\n",
    "from pyDOE import lhs # Latin Hypercube Sampling\n",
    "\n",
    "# Check if CUDA is available, otherwise use CPU\n",
    "device = torch.device('cuda' if torch.cuda.is_available() else 'cpu')\n",
    "print(f\"Using device: {device}\")"
   ]
  },
  {
   "cell_type": "markdown",
   "metadata": {},
   "source": [
    "# Parameters and Import Data"
   ]
  },
  {
   "cell_type": "code",
   "execution_count": 2,
   "metadata": {
    "tags": []
   },
   "outputs": [],
   "source": [
    "file_path = os.getcwd()\n",
    "\n",
    "Nu = 256\n",
    "# Nu = 64\n",
    "Nf = 10000\n",
    "a, b = 0.0, 1.0\n",
    "\n",
    "# Load True Solution and paramters\n",
    "df = pd.read_csv(f'{file_path}/synthetic_data/synthetic_data.csv')\n",
    "x_array, mtrue_array, utrue_array = np.array(df['x']), np.array(df['mtrue']), np.array(df['utrue'])\n",
    "forcing_array, dist_array = np.array(df['forcing']), np.array(df['distribution'])\n",
    "omega = np.array(df['omega'])[0]\n",
    "\n",
    "from scipy.interpolate import interp1d\n",
    "true_solution = interp1d(x_array, utrue_array)\n",
    "true_dist = interp1d(x_array, dist_array)\n",
    "true_forcing = interp1d(x_array, forcing_array)\n",
    "omega = torch.tensor(omega, dtype=torch.float32, device=device)"
   ]
  },
  {
   "cell_type": "markdown",
   "metadata": {},
   "source": [
    "# Set up Training Data"
   ]
  },
  {
   "cell_type": "code",
   "execution_count": 3,
   "metadata": {
    "tags": []
   },
   "outputs": [
    {
     "data": {
      "image/png": "[encoded data removed]",
      "text/plain": [
       "<Figure size 432x288 with 1 Axes>"
      ]
     },
     "metadata": {
      "needs_background": "light"
     },
     "output_type": "display_data"
    },
    {
     "data": {
      "image/png": "[encoded data removed]",
      "text/plain": [
       "<Figure size 432x288 with 1 Axes>"
      ]
     },
     "metadata": {
      "needs_background": "light"
     },
     "output_type": "display_data"
    }
   ],
   "source": [
    "X_u_train = torch.linspace(a,b, Nu, dtype=torch.float32)[:, None]\n",
    "\n",
    "u_train = torch.tensor(true_solution(X_u_train), dtype=torch.float32)\n",
    "plt.plot(u_train)\n",
    "noise_level = 0.01\n",
    "np.random.seed(0)\n",
    "u_train += torch.randn(u_train.shape) * abs(u_train).max() * noise_level\n",
    "plt.plot(u_train)\n",
    "plt.show()\n",
    "\n",
    "X_f_train = torch.tensor(lhs(1, Nf), dtype=torch.float32)\n",
    "dist_f_train = torch.tensor(true_dist(X_f_train), dtype=torch.float32)\n",
    "forcing_f_train = torch.tensor(true_forcing(X_f_train), dtype=torch.float32)\n",
    "plt.plot(X_f_train, np.zeros_like(X_f_train), 'o', markersize=1)\n",
    "\n",
    "# Move data to the selected device\n",
    "X_u_train = X_u_train.to(device)\n",
    "u_train = u_train.to(device)\n",
    "X_f_train = X_f_train.to(device)\n",
    "X_f_train.requires_grad = True\n",
    "dist_f_train = dist_f_train.to(device)\n",
    "forcing_f_train = forcing_f_train.to(device)"
   ]
  },
  {
   "cell_type": "markdown",
   "metadata": {},
   "source": [
    "# Define Neural Network with Training Loop"
   ]
  },
  {
   "cell_type": "code",
   "execution_count": 4,
   "metadata": {
    "tags": []
   },
   "outputs": [],
   "source": [
    "class PINN(nn.Module):\n",
    "    def __init__(self, layers):\n",
    "        super(PINN, self).__init__()\n",
    "        self.layers = layers\n",
    "        self.num_layers = len(layers)\n",
    "        self.loss_function = nn.MSELoss()\n",
    "\n",
    "        # Neural Network\n",
    "        self.linears = nn.ModuleList([nn.Linear(layers[i], layers[i + 1]) for i in range(len(layers) - 1)])\n",
    "        self.linears_m = nn.ModuleList([nn.Linear(layers[i], layers[i + 1]) for i in range(len(layers) - 1)]) # separate NN for m since m varies spatially\n",
    "        self.activation = nn.Tanh()\n",
    "        \n",
    "        self.best_loss = 1e10\n",
    "\n",
    "        # self.m = nn.Parameter(torch.tensor(0.1), requires_grad=True)\n",
    "        # self.m = torch.tensor(0.0, dtype=torch.float32)\n",
    "\n",
    "        # Xavier Initialization\n",
    "        for i in range(len(self.linears)):\n",
    "            nn.init.xavier_normal_(self.linears[i].weight.data, gain=1.0)\n",
    "            nn.init.xavier_normal_(self.linears_m[i].weight.data, gain=1.0)\n",
    "            if self.linears[i].bias is not None:\n",
    "                nn.init.zeros_(self.linears[i].bias.data)\n",
    "            if self.linears_m[i].bias is not None:\n",
    "                nn.init.zeros_(self.linears_m[i].bias.data)\n",
    "    \n",
    "    def forward(self, x):\n",
    "        # print(x.shape)\n",
    "        a_ = torch.tensor(a, dtype=torch.float32)\n",
    "        b_ = torch.tensor(b, dtype=torch.float32)\n",
    "        #preprocessing input \n",
    "        x = (x - a_)/(b_ - a_) #feature scaling\n",
    "        # compute m first\n",
    "        x_copy = x.clone()\n",
    "        m = self.m_compute(x_copy)\n",
    "        \n",
    "        for i, linear in enumerate(self.linears[:-1]):\n",
    "            x = self.activation(linear(x))\n",
    "        x = self.linears[-1](x)  # No activation on the last layer (u)\n",
    "        return x, m\n",
    "    \n",
    "    def m_compute(self, x):\n",
    "        # print(x.shape)\n",
    "        a_ = torch.tensor(a, dtype=torch.float32)\n",
    "        b_ = torch.tensor(b, dtype=torch.float32)\n",
    "        #preprocessing input \n",
    "        \n",
    "        for i, linear in enumerate(self.linears_m[:-1]):\n",
    "            x = self.activation(linear(x))\n",
    "        x = self.linears_m[-1](x)  # No activation on the last layer (u)\n",
    "        return x\n",
    "    \n",
    "    def compute_loss(self, x_u, u_true, x_f):\n",
    "        x_f.requires_grad = True\n",
    "        # Calculate u from the network at boundary points and collocation points\n",
    "        u_f_pred, m_pred = self.forward(x_f)\n",
    "        \n",
    "        # Compute f (similar to TensorFlow implementation)\n",
    "        u_f_pred_grads = torch.autograd.grad(u_f_pred, x_f, grad_outputs=torch.ones_like(u_f_pred), retain_graph=True, create_graph=True)[0]\n",
    "        u_f_pred_xx = torch.autograd.grad(torch.exp(m_pred) * u_f_pred_grads, x_f, grad_outputs=torch.ones_like(u_f_pred_grads[:,[0]]), create_graph=True)[0]\n",
    "        # u_f_pred_xx = torch.autograd.grad(u_f_pred_grads, x_f, grad_outputs=torch.ones_like(u_f_pred_grads[:,[0]]), create_graph=True)[0]\n",
    "        # m_f_pred_grads = torch.autograd.grad(m_pred, x_f, grad_outputs=torch.ones_like(m_pred), create_graph=True)[0]\n",
    "\n",
    "        rhs = forcing_f_train\n",
    "        # rhs = (torch.sin(2 * torch.pi * x_f)) \n",
    "\n",
    "        # f_pred = - torch.exp(m_pred) * u_f_pred_xx - torch.exp(m_pred) * m_f_pred_grads * u_f_pred_grads + omega * dist_f_train * u_f_pred - rhs\n",
    "        f_pred = - u_f_pred_xx + omega * dist_f_train * u_f_pred - rhs\n",
    "        # f_pred = - u_f_pred_xx + 10 * u_f_pred - rhs\n",
    "        \n",
    "        # Calculate the loss\n",
    "        loss_f = self.loss_function(f_pred, torch.zeros_like(f_pred)) # residual loss\n",
    "        u_pred, _ = self.forward(x_u)\n",
    "        loss_u = self.loss_function(u_pred, u_true) # boundary loss\n",
    "        loss = loss_f + loss_u\n",
    "\n",
    "        return loss, loss_u, loss_f\n",
    "\n",
    "    def train(self, x_u, u_true, x_f, epochs, lr):\n",
    "        # Move model to the selected device\n",
    "        self.to(device) \n",
    "        # adam optimizer\n",
    "        optimizer = torch.optim.Adam(self.parameters(), lr=lr,betas=(0.9, 0.999), eps=1e-07)\n",
    "        \n",
    "        start_time = time.time()\n",
    "        for epoch in range(epochs): # loop over the dataset multiple times\n",
    "            optimizer.zero_grad()\n",
    "            loss, loss_u, loss_f = self.compute_loss(x_u, u_true, x_f)\n",
    "            loss.backward()\n",
    "            optimizer.step()\n",
    "\n",
    "            if loss < self.best_loss:\n",
    "                self.best_loss = loss\n",
    "                self.best_model = deepcopy(self.state_dict())\n",
    "                self.best_u, self.best_m = self.forward(x_u)\n",
    "            \n",
    "            if (epoch+1) % 1000 == 0: # Print the loss every 100 epochs\n",
    "                end_time = time.time()\n",
    "                print(f\"Epoch {(epoch+1)}, loss_misfit: {loss_u.item():1.2e}, loss_f: {loss_f.item():1.2e}, loss: {loss.item():1.2e}, run time: {end_time - start_time}s\")\n",
    "                start_time = time.time()"
   ]
  },
  {
   "cell_type": "markdown",
   "metadata": {},
   "source": [
    "# Run Training Loop"
   ]
  },
  {
   "cell_type": "code",
   "execution_count": 5,
   "metadata": {
    "tags": []
   },
   "outputs": [],
   "source": [
    "layers = [1, 50, 50, 50, 50, 50, 50, 50, 1]\n",
    "if 'model' not in locals():\n",
    "    model = PINN(layers)\n",
    "model.to(device)\n",
    "epochs = 1000000\n",
    "learning_rate = 1e-4\n"
   ]
  },
  {
   "cell_type": "code",
   "execution_count": null,
   "metadata": {
    "tags": []
   },
   "outputs": [
    {
     "name": "stderr",
     "output_type": "stream",
     "text": [
      "/g/g20/ho32/venv_PINN_FEM/lib/python3.9/site-packages/torch/autograd/graph.py:768: UserWarning: Attempting to run cuBLAS, but there was no current CUDA context! Attempting to set the primary context... (Triggered internally at ../aten/src/ATen/cuda/CublasHandlePool.cpp:135.)\n",
      "  return Variable._execution_engine.run_backward(  # Calls into the C++ engine to run the backward pass\n"
     ]
    },
    {
     "name": "stdout",
     "output_type": "stream",
     "text": [
      "Epoch 1000, loss_misfit: 1.21e+00, loss_f: 8.41e-01, loss: 2.05e+00, run time: 20.36943244934082s\n",
      "Epoch 2000, loss_misfit: 7.55e-01, loss_f: 2.51e-01, loss: 1.01e+00, run time: 16.685300827026367s\n",
      "Epoch 3000, loss_misfit: 6.47e-01, loss_f: 7.08e-02, loss: 7.17e-01, run time: 16.297758102416992s\n",
      "Epoch 4000, loss_misfit: 5.91e-01, loss_f: 6.45e-02, loss: 6.56e-01, run time: 15.762385368347168s\n",
      "Epoch 5000, loss_misfit: 5.40e-01, loss_f: 6.04e-02, loss: 6.01e-01, run time: 16.36319375038147s\n",
      "Epoch 6000, loss_misfit: 4.89e-01, loss_f: 5.84e-02, loss: 5.47e-01, run time: 17.094497680664062s\n",
      "Epoch 7000, loss_misfit: 4.40e-01, loss_f: 9.00e-02, loss: 5.30e-01, run time: 16.545000553131104s\n",
      "Epoch 8000, loss_misfit: 3.96e-01, loss_f: 7.23e-01, loss: 1.12e+00, run time: 16.34399962425232s\n",
      "Epoch 9000, loss_misfit: 3.52e-01, loss_f: 5.18e-02, loss: 4.04e-01, run time: 16.37816095352173s\n",
      "Epoch 10000, loss_misfit: 3.21e-01, loss_f: 5.44e-02, loss: 3.75e-01, run time: 16.886355876922607s\n",
      "Epoch 11000, loss_misfit: 2.99e-01, loss_f: 7.76e-02, loss: 3.77e-01, run time: 16.871774673461914s\n",
      "Epoch 12000, loss_misfit: 2.84e-01, loss_f: 4.16e-02, loss: 3.26e-01, run time: 16.92084765434265s\n",
      "Epoch 13000, loss_misfit: 2.75e-01, loss_f: 2.71e-02, loss: 3.02e-01, run time: 16.103205680847168s\n",
      "Epoch 14000, loss_misfit: 2.70e-01, loss_f: 2.39e-02, loss: 2.94e-01, run time: 17.086779356002808s\n",
      "Epoch 15000, loss_misfit: 2.68e-01, loss_f: 2.25e-02, loss: 2.90e-01, run time: 18.005412817001343s\n",
      "Epoch 16000, loss_misfit: 2.66e-01, loss_f: 2.16e-02, loss: 2.88e-01, run time: 17.334537982940674s\n",
      "Epoch 17000, loss_misfit: 2.65e-01, loss_f: 2.11e-02, loss: 2.86e-01, run time: 17.384533166885376s\n",
      "Epoch 18000, loss_misfit: 2.64e-01, loss_f: 2.05e-02, loss: 2.84e-01, run time: 15.994534015655518s\n",
      "Epoch 19000, loss_misfit: 2.63e-01, loss_f: 2.01e-02, loss: 2.83e-01, run time: 17.817970991134644s\n",
      "Epoch 20000, loss_misfit: 2.62e-01, loss_f: 1.97e-02, loss: 2.81e-01, run time: 17.86990475654602s\n",
      "Epoch 21000, loss_misfit: 2.60e-01, loss_f: 1.94e-02, loss: 2.80e-01, run time: 16.44031262397766s\n",
      "Epoch 22000, loss_misfit: 2.59e-01, loss_f: 1.91e-02, loss: 2.78e-01, run time: 15.733274459838867s\n",
      "Epoch 23000, loss_misfit: 2.57e-01, loss_f: 1.87e-02, loss: 2.76e-01, run time: 16.00339698791504s\n",
      "Epoch 24000, loss_misfit: 2.55e-01, loss_f: 1.86e-02, loss: 2.73e-01, run time: 15.878754138946533s\n",
      "Epoch 25000, loss_misfit: 2.52e-01, loss_f: 2.00e-02, loss: 2.72e-01, run time: 15.546624660491943s\n",
      "Epoch 26000, loss_misfit: 2.49e-01, loss_f: 1.86e-02, loss: 2.68e-01, run time: 16.785939693450928s\n",
      "Epoch 27000, loss_misfit: 2.46e-01, loss_f: 1.86e-02, loss: 2.64e-01, run time: 16.243191957473755s\n",
      "Epoch 28000, loss_misfit: 2.40e-01, loss_f: 6.20e-01, loss: 8.60e-01, run time: 17.592836380004883s\n",
      "Epoch 29000, loss_misfit: 2.38e-01, loss_f: 2.57e-02, loss: 2.63e-01, run time: 16.542659759521484s\n",
      "Epoch 30000, loss_misfit: 2.33e-01, loss_f: 1.88e-02, loss: 2.52e-01, run time: 17.77373480796814s\n",
      "Epoch 31000, loss_misfit: 2.29e-01, loss_f: 1.90e-02, loss: 2.48e-01, run time: 16.067277193069458s\n",
      "Epoch 32000, loss_misfit: 2.24e-01, loss_f: 1.95e-02, loss: 2.44e-01, run time: 15.740102052688599s\n",
      "Epoch 33000, loss_misfit: 2.20e-01, loss_f: 1.99e-02, loss: 2.40e-01, run time: 15.871234893798828s\n",
      "Epoch 34000, loss_misfit: 2.15e-01, loss_f: 2.03e-02, loss: 2.35e-01, run time: 15.536137342453003s\n",
      "Epoch 35000, loss_misfit: 2.10e-01, loss_f: 1.92e-02, loss: 2.29e-01, run time: 15.699038028717041s\n",
      "Epoch 36000, loss_misfit: 2.05e-01, loss_f: 1.95e-02, loss: 2.24e-01, run time: 15.874153137207031s\n",
      "Epoch 37000, loss_misfit: 2.00e-01, loss_f: 1.94e-02, loss: 2.19e-01, run time: 16.05716609954834s\n",
      "Epoch 38000, loss_misfit: 1.94e-01, loss_f: 1.94e-02, loss: 2.14e-01, run time: 16.093493461608887s\n",
      "Epoch 39000, loss_misfit: 1.89e-01, loss_f: 2.57e-02, loss: 2.14e-01, run time: 16.046339750289917s\n",
      "Epoch 40000, loss_misfit: 1.82e-01, loss_f: 1.97e-02, loss: 2.02e-01, run time: 15.94772481918335s\n",
      "Epoch 41000, loss_misfit: 1.76e-01, loss_f: 1.99e-02, loss: 1.96e-01, run time: 16.68150758743286s\n",
      "Epoch 42000, loss_misfit: 1.68e-01, loss_f: 2.03e-02, loss: 1.88e-01, run time: 16.143605709075928s\n",
      "Epoch 43000, loss_misfit: 1.59e-01, loss_f: 2.04e-02, loss: 1.80e-01, run time: 16.013089179992676s\n",
      "Epoch 44000, loss_misfit: 1.49e-01, loss_f: 1.16e-01, loss: 2.65e-01, run time: 15.855127811431885s\n",
      "Epoch 45000, loss_misfit: 1.36e-01, loss_f: 2.11e-02, loss: 1.57e-01, run time: 16.147111892700195s\n",
      "Epoch 46000, loss_misfit: 1.19e-01, loss_f: 1.91e-02, loss: 1.38e-01, run time: 16.514530658721924s\n",
      "Epoch 47000, loss_misfit: 9.73e-02, loss_f: 1.69e-02, loss: 1.14e-01, run time: 16.505600452423096s\n",
      "Epoch 48000, loss_misfit: 7.07e-02, loss_f: 1.31e-02, loss: 8.38e-02, run time: 17.489402294158936s\n",
      "Epoch 49000, loss_misfit: 4.51e-02, loss_f: 9.29e-03, loss: 5.44e-02, run time: 16.88372230529785s\n",
      "Epoch 50000, loss_misfit: 2.99e-02, loss_f: 4.44e-02, loss: 7.43e-02, run time: 16.126311540603638s\n",
      "Epoch 51000, loss_misfit: 2.37e-02, loss_f: 3.26e-02, loss: 5.62e-02, run time: 15.375259160995483s\n",
      "Epoch 52000, loss_misfit: 2.09e-02, loss_f: 6.14e-03, loss: 2.70e-02, run time: 16.29706907272339s\n",
      "Epoch 53000, loss_misfit: 1.93e-02, loss_f: 1.77e-01, loss: 1.96e-01, run time: 16.237173080444336s\n",
      "Epoch 54000, loss_misfit: 1.84e-02, loss_f: 5.12e-03, loss: 2.35e-02, run time: 15.17929482460022s\n",
      "Epoch 55000, loss_misfit: 1.76e-02, loss_f: 4.71e-03, loss: 2.23e-02, run time: 15.22148060798645s\n",
      "Epoch 56000, loss_misfit: 1.70e-02, loss_f: 4.61e-03, loss: 2.16e-02, run time: 15.471216678619385s\n",
      "Epoch 57000, loss_misfit: 1.64e-02, loss_f: 4.24e-03, loss: 2.07e-02, run time: 16.92124652862549s\n",
      "Epoch 58000, loss_misfit: 1.59e-02, loss_f: 4.12e-03, loss: 2.00e-02, run time: 15.241878271102905s\n",
      "Epoch 59000, loss_misfit: 1.54e-02, loss_f: 5.59e-03, loss: 2.10e-02, run time: 15.124558925628662s\n",
      "Epoch 60000, loss_misfit: 1.49e-02, loss_f: 2.85e-02, loss: 4.34e-02, run time: 15.157353401184082s\n",
      "Epoch 61000, loss_misfit: 1.44e-02, loss_f: 9.93e-03, loss: 2.43e-02, run time: 15.373510122299194s\n",
      "Epoch 62000, loss_misfit: 1.39e-02, loss_f: 1.00e-02, loss: 2.39e-02, run time: 15.183143377304077s\n",
      "Epoch 63000, loss_misfit: 1.34e-02, loss_f: 1.33e-01, loss: 1.46e-01, run time: 15.162006855010986s\n",
      "Epoch 64000, loss_misfit: 1.29e-02, loss_f: 6.48e-03, loss: 1.93e-02, run time: 14.993264198303223s\n",
      "Epoch 65000, loss_misfit: 1.24e-02, loss_f: 3.35e-03, loss: 1.57e-02, run time: 16.557160139083862s\n",
      "Epoch 66000, loss_misfit: 1.19e-02, loss_f: 1.22e-02, loss: 2.41e-02, run time: 15.31983208656311s\n",
      "Epoch 67000, loss_misfit: 1.14e-02, loss_f: 1.29e-01, loss: 1.41e-01, run time: 15.781383037567139s\n",
      "Epoch 68000, loss_misfit: 1.09e-02, loss_f: 3.46e-03, loss: 1.44e-02, run time: 15.347206592559814s\n",
      "Epoch 69000, loss_misfit: 1.04e-02, loss_f: 3.13e-03, loss: 1.36e-02, run time: 15.411845207214355s\n",
      "Epoch 70000, loss_misfit: 9.98e-03, loss_f: 3.43e-03, loss: 1.34e-02, run time: 15.403196096420288s\n",
      "Epoch 71000, loss_misfit: 9.54e-03, loss_f: 3.18e-03, loss: 1.27e-02, run time: 16.09623908996582s\n",
      "Epoch 72000, loss_misfit: 9.10e-03, loss_f: 5.31e-03, loss: 1.44e-02, run time: 16.395548582077026s\n",
      "Epoch 73000, loss_misfit: 8.67e-03, loss_f: 7.65e-02, loss: 8.51e-02, run time: 15.396559238433838s\n",
      "Epoch 74000, loss_misfit: 8.29e-03, loss_f: 2.93e-03, loss: 1.12e-02, run time: 16.570821046829224s\n",
      "Epoch 75000, loss_misfit: 7.90e-03, loss_f: 3.14e-03, loss: 1.10e-02, run time: 16.543673276901245s\n",
      "Epoch 76000, loss_misfit: 7.54e-03, loss_f: 2.75e-03, loss: 1.03e-02, run time: 16.755329847335815s\n",
      "Epoch 77000, loss_misfit: 7.20e-03, loss_f: 2.65e-03, loss: 9.85e-03, run time: 16.653640747070312s\n",
      "Epoch 78000, loss_misfit: 6.87e-03, loss_f: 3.70e-03, loss: 1.06e-02, run time: 15.574862718582153s\n",
      "Epoch 79000, loss_misfit: 6.55e-03, loss_f: 2.66e-03, loss: 9.21e-03, run time: 15.192389011383057s\n",
      "Epoch 80000, loss_misfit: 6.26e-03, loss_f: 2.49e-03, loss: 8.76e-03, run time: 15.891110897064209s\n",
      "Epoch 81000, loss_misfit: 5.99e-03, loss_f: 2.43e-03, loss: 8.42e-03, run time: 17.341006755828857s\n",
      "Epoch 82000, loss_misfit: 5.75e-03, loss_f: 2.37e-03, loss: 8.12e-03, run time: 17.270275592803955s\n",
      "Epoch 83000, loss_misfit: 5.52e-03, loss_f: 2.32e-03, loss: 7.84e-03, run time: 17.21894359588623s\n",
      "Epoch 84000, loss_misfit: 5.31e-03, loss_f: 2.39e-03, loss: 7.70e-03, run time: 15.519166231155396s\n",
      "Epoch 85000, loss_misfit: 5.10e-03, loss_f: 2.65e-03, loss: 7.75e-03, run time: 15.261818647384644s\n",
      "Epoch 86000, loss_misfit: 4.91e-03, loss_f: 2.17e-03, loss: 7.09e-03, run time: 15.358017683029175s\n",
      "Epoch 87000, loss_misfit: 4.74e-03, loss_f: 1.25e-01, loss: 1.29e-01, run time: 15.11182975769043s\n",
      "Epoch 88000, loss_misfit: 4.59e-03, loss_f: 5.53e-03, loss: 1.01e-02, run time: 15.391392707824707s\n",
      "Epoch 89000, loss_misfit: 4.44e-03, loss_f: 2.16e-03, loss: 6.61e-03, run time: 15.170411586761475s\n",
      "Epoch 90000, loss_misfit: 4.32e-03, loss_f: 2.12e-03, loss: 6.43e-03, run time: 15.12936806678772s\n",
      "Epoch 91000, loss_misfit: 4.20e-03, loss_f: 1.95e-03, loss: 6.15e-03, run time: 15.088216304779053s\n",
      "Epoch 92000, loss_misfit: 4.10e-03, loss_f: 2.06e-03, loss: 6.15e-03, run time: 15.092393398284912s\n",
      "Epoch 93000, loss_misfit: 4.00e-03, loss_f: 3.29e-03, loss: 7.30e-03, run time: 15.088460445404053s\n",
      "Epoch 94000, loss_misfit: 3.92e-03, loss_f: 2.96e-03, loss: 6.88e-03, run time: 14.97389841079712s\n",
      "Epoch 95000, loss_misfit: 3.84e-03, loss_f: 2.50e-03, loss: 6.34e-03, run time: 15.055357456207275s\n",
      "Epoch 96000, loss_misfit: 3.83e-03, loss_f: 6.74e-03, loss: 1.06e-02, run time: 16.46255397796631s\n",
      "Epoch 97000, loss_misfit: 3.73e-03, loss_f: 1.76e-03, loss: 5.49e-03, run time: 16.854803323745728s\n",
      "Epoch 98000, loss_misfit: 3.68e-03, loss_f: 1.74e-03, loss: 5.42e-03, run time: 16.774837255477905s\n",
      "Epoch 99000, loss_misfit: 3.63e-03, loss_f: 2.05e-03, loss: 5.67e-03, run time: 15.079467535018921s\n",
      "Epoch 100000, loss_misfit: 3.57e-03, loss_f: 1.10e-01, loss: 1.13e-01, run time: 14.909370422363281s\n",
      "Epoch 101000, loss_misfit: 3.54e-03, loss_f: 2.55e-03, loss: 6.10e-03, run time: 14.982084512710571s\n",
      "Epoch 102000, loss_misfit: 3.51e-03, loss_f: 7.57e-03, loss: 1.11e-02, run time: 14.953538417816162s\n",
      "Epoch 103000, loss_misfit: 3.47e-03, loss_f: 1.62e-03, loss: 5.09e-03, run time: 15.718283414840698s\n",
      "Epoch 104000, loss_misfit: 3.47e-03, loss_f: 1.63e-03, loss: 5.10e-03, run time: 17.086080074310303s\n",
      "Epoch 105000, loss_misfit: 3.47e-03, loss_f: 3.25e-01, loss: 3.28e-01, run time: 15.469042778015137s\n",
      "Epoch 106000, loss_misfit: 3.39e-03, loss_f: 3.06e-02, loss: 3.40e-02, run time: 15.10885763168335s\n",
      "Epoch 107000, loss_misfit: 3.37e-03, loss_f: 2.80e-03, loss: 6.17e-03, run time: 14.980106830596924s\n",
      "Epoch 108000, loss_misfit: 3.35e-03, loss_f: 2.98e-03, loss: 6.33e-03, run time: 15.084107875823975s\n",
      "Epoch 109000, loss_misfit: 3.33e-03, loss_f: 2.23e-03, loss: 5.56e-03, run time: 14.929287672042847s\n",
      "Epoch 110000, loss_misfit: 3.28e-03, loss_f: 3.84e-01, loss: 3.88e-01, run time: 15.090546369552612s\n",
      "Epoch 111000, loss_misfit: 3.29e-03, loss_f: 2.35e-03, loss: 5.64e-03, run time: 15.600184679031372s\n",
      "Epoch 112000, loss_misfit: 3.28e-03, loss_f: 1.43e-03, loss: 4.71e-03, run time: 15.542815923690796s\n",
      "Epoch 113000, loss_misfit: 3.27e-03, loss_f: 1.41e-03, loss: 4.68e-03, run time: 16.568235397338867s\n",
      "Epoch 114000, loss_misfit: 3.26e-03, loss_f: 1.40e-03, loss: 4.66e-03, run time: 15.951499938964844s\n",
      "Epoch 115000, loss_misfit: 3.24e-03, loss_f: 1.79e-03, loss: 5.04e-03, run time: 16.18227744102478s\n",
      "Epoch 116000, loss_misfit: 3.22e-03, loss_f: 1.41e-03, loss: 4.64e-03, run time: 15.282148361206055s\n",
      "Epoch 117000, loss_misfit: 3.21e-03, loss_f: 1.58e-03, loss: 4.79e-03, run time: 14.937469244003296s\n",
      "Epoch 118000, loss_misfit: 3.21e-03, loss_f: 6.72e-03, loss: 9.93e-03, run time: 14.902063608169556s\n",
      "Epoch 119000, loss_misfit: 3.24e-03, loss_f: 3.63e-01, loss: 3.66e-01, run time: 15.008639335632324s\n",
      "Epoch 120000, loss_misfit: 3.17e-03, loss_f: 1.42e-03, loss: 4.59e-03, run time: 14.951136589050293s\n",
      "Epoch 121000, loss_misfit: 3.16e-03, loss_f: 1.32e-03, loss: 4.48e-03, run time: 14.993157625198364s\n",
      "Epoch 122000, loss_misfit: 3.15e-03, loss_f: 1.47e-03, loss: 4.62e-03, run time: 14.965915441513062s\n",
      "Epoch 123000, loss_misfit: 3.14e-03, loss_f: 6.57e-03, loss: 9.70e-03, run time: 15.012133121490479s\n",
      "Epoch 124000, loss_misfit: 3.13e-03, loss_f: 2.16e-03, loss: 5.29e-03, run time: 14.89676284790039s\n",
      "Epoch 125000, loss_misfit: 3.12e-03, loss_f: 1.24e-03, loss: 4.35e-03, run time: 15.122593402862549s\n",
      "Epoch 126000, loss_misfit: 3.10e-03, loss_f: 3.39e-03, loss: 6.49e-03, run time: 15.908886909484863s\n",
      "Epoch 127000, loss_misfit: 3.09e-03, loss_f: 1.38e-03, loss: 4.47e-03, run time: 15.107084274291992s\n",
      "Epoch 128000, loss_misfit: 3.08e-03, loss_f: 1.20e-03, loss: 4.29e-03, run time: 15.01199722290039s\n",
      "Epoch 129000, loss_misfit: 3.08e-03, loss_f: 1.56e-03, loss: 4.63e-03, run time: 14.966365098953247s\n",
      "Epoch 130000, loss_misfit: 3.06e-03, loss_f: 1.80e-02, loss: 2.11e-02, run time: 14.907196283340454s\n",
      "Epoch 131000, loss_misfit: 3.08e-03, loss_f: 1.18e-03, loss: 4.26e-03, run time: 16.148781538009644s\n",
      "Epoch 132000, loss_misfit: 3.05e-03, loss_f: 1.18e-03, loss: 4.23e-03, run time: 15.643464088439941s\n",
      "Epoch 133000, loss_misfit: 3.05e-03, loss_f: 9.07e-03, loss: 1.21e-02, run time: 15.937796592712402s\n",
      "Epoch 134000, loss_misfit: 3.03e-03, loss_f: 1.13e-03, loss: 4.16e-03, run time: 15.823438882827759s\n",
      "Epoch 135000, loss_misfit: 3.04e-03, loss_f: 1.13e-03, loss: 4.18e-03, run time: 16.22716522216797s\n",
      "Epoch 136000, loss_misfit: 3.02e-03, loss_f: 1.41e-03, loss: 4.42e-03, run time: 15.304514169692993s\n",
      "Epoch 137000, loss_misfit: 3.02e-03, loss_f: 1.28e-02, loss: 1.58e-02, run time: 14.931602478027344s\n",
      "Epoch 138000, loss_misfit: 2.98e-03, loss_f: 3.03e-02, loss: 3.32e-02, run time: 14.89013934135437s\n",
      "Epoch 139000, loss_misfit: 2.99e-03, loss_f: 1.53e-03, loss: 4.52e-03, run time: 14.974334239959717s\n",
      "Epoch 140000, loss_misfit: 2.98e-03, loss_f: 1.18e-03, loss: 4.16e-03, run time: 14.987730979919434s\n",
      "Epoch 141000, loss_misfit: 2.97e-03, loss_f: 1.96e-03, loss: 4.93e-03, run time: 15.049757719039917s\n",
      "Epoch 142000, loss_misfit: 2.96e-03, loss_f: 6.69e-03, loss: 9.65e-03, run time: 15.092021942138672s\n",
      "Epoch 143000, loss_misfit: 2.95e-03, loss_f: 5.09e-03, loss: 8.05e-03, run time: 15.329100370407104s\n",
      "Epoch 144000, loss_misfit: 2.95e-03, loss_f: 4.36e-03, loss: 7.31e-03, run time: 15.095645427703857s\n",
      "Epoch 145000, loss_misfit: 2.94e-03, loss_f: 1.75e-03, loss: 4.69e-03, run time: 15.046665668487549s\n",
      "Epoch 146000, loss_misfit: 2.93e-03, loss_f: 1.18e-03, loss: 4.11e-03, run time: 15.124636888504028s\n",
      "Epoch 147000, loss_misfit: 3.02e-03, loss_f: 9.86e-01, loss: 9.89e-01, run time: 15.355449438095093s\n",
      "Epoch 148000, loss_misfit: 2.92e-03, loss_f: 1.02e-03, loss: 3.94e-03, run time: 15.785218000411987s\n",
      "Epoch 149000, loss_misfit: 2.90e-03, loss_f: 1.01e-03, loss: 3.91e-03, run time: 16.281068563461304s\n",
      "Epoch 150000, loss_misfit: 2.91e-03, loss_f: 1.03e-03, loss: 3.94e-03, run time: 15.44616961479187s\n",
      "Epoch 151000, loss_misfit: 2.90e-03, loss_f: 1.30e-03, loss: 4.20e-03, run time: 15.20125675201416s\n",
      "Epoch 152000, loss_misfit: 2.89e-03, loss_f: 1.78e-03, loss: 4.68e-03, run time: 15.128659963607788s\n",
      "Epoch 153000, loss_misfit: 2.89e-03, loss_f: 9.91e-04, loss: 3.88e-03, run time: 15.928674697875977s\n",
      "Epoch 154000, loss_misfit: 2.88e-03, loss_f: 9.83e-04, loss: 3.86e-03, run time: 16.351773262023926s\n",
      "Epoch 155000, loss_misfit: 2.88e-03, loss_f: 1.02e-03, loss: 3.90e-03, run time: 15.375708103179932s\n",
      "Epoch 156000, loss_misfit: 2.87e-03, loss_f: 1.45e-03, loss: 4.32e-03, run time: 15.122378826141357s\n",
      "Epoch 157000, loss_misfit: 2.86e-03, loss_f: 1.02e-03, loss: 3.88e-03, run time: 15.32511568069458s\n",
      "Epoch 158000, loss_misfit: 2.85e-03, loss_f: 1.10e-03, loss: 3.96e-03, run time: 15.21304965019226s\n",
      "Epoch 159000, loss_misfit: 2.85e-03, loss_f: 2.17e-02, loss: 2.45e-02, run time: 15.017526388168335s\n",
      "Epoch 160000, loss_misfit: 2.89e-03, loss_f: 2.46e-01, loss: 2.49e-01, run time: 15.107019901275635s\n",
      "Epoch 161000, loss_misfit: 2.83e-03, loss_f: 9.71e-04, loss: 3.80e-03, run time: 15.071766376495361s\n",
      "Epoch 162000, loss_misfit: 2.81e-03, loss_f: 9.35e-02, loss: 9.63e-02, run time: 15.151308536529541s\n",
      "Epoch 163000, loss_misfit: 2.82e-03, loss_f: 1.82e-03, loss: 4.64e-03, run time: 15.199331521987915s\n",
      "Epoch 164000, loss_misfit: 2.81e-03, loss_f: 1.19e-03, loss: 4.00e-03, run time: 15.0276198387146s\n",
      "Epoch 165000, loss_misfit: 2.80e-03, loss_f: 9.26e-04, loss: 3.73e-03, run time: 15.063715696334839s\n",
      "Epoch 166000, loss_misfit: 2.79e-03, loss_f: 2.44e-02, loss: 2.72e-02, run time: 15.106968641281128s\n",
      "Epoch 167000, loss_misfit: 2.79e-03, loss_f: 4.83e-03, loss: 7.62e-03, run time: 15.05924940109253s\n",
      "Epoch 168000, loss_misfit: 2.79e-03, loss_f: 9.11e-04, loss: 3.70e-03, run time: 15.744367837905884s\n",
      "Epoch 169000, loss_misfit: 2.77e-03, loss_f: 1.08e-02, loss: 1.35e-02, run time: 15.07765793800354s\n",
      "Epoch 170000, loss_misfit: 2.77e-03, loss_f: 9.39e-04, loss: 3.71e-03, run time: 15.051522493362427s\n",
      "Epoch 171000, loss_misfit: 2.77e-03, loss_f: 3.45e-03, loss: 6.22e-03, run time: 15.018930912017822s\n",
      "Epoch 172000, loss_misfit: 2.76e-03, loss_f: 8.91e-04, loss: 3.65e-03, run time: 15.121896028518677s\n",
      "Epoch 173000, loss_misfit: 2.76e-03, loss_f: 8.90e-04, loss: 3.65e-03, run time: 15.915923595428467s\n",
      "Epoch 174000, loss_misfit: 2.79e-03, loss_f: 9.03e-04, loss: 3.69e-03, run time: 16.489922761917114s\n",
      "Epoch 175000, loss_misfit: 2.75e-03, loss_f: 1.45e-03, loss: 4.20e-03, run time: 14.955194234848022s\n",
      "Epoch 176000, loss_misfit: 2.76e-03, loss_f: 8.82e-04, loss: 3.64e-03, run time: 15.978296041488647s\n",
      "Epoch 177000, loss_misfit: 2.74e-03, loss_f: 8.73e-04, loss: 3.61e-03, run time: 15.223636150360107s\n",
      "Epoch 178000, loss_misfit: 2.73e-03, loss_f: 8.80e-04, loss: 3.61e-03, run time: 15.263504266738892s\n",
      "Epoch 179000, loss_misfit: 2.77e-03, loss_f: 8.79e-04, loss: 3.65e-03, run time: 16.316941499710083s\n",
      "Epoch 180000, loss_misfit: 2.73e-03, loss_f: 8.61e-04, loss: 3.60e-03, run time: 14.98011302947998s\n",
      "Epoch 181000, loss_misfit: 2.72e-03, loss_f: 8.67e-04, loss: 3.59e-03, run time: 15.817919492721558s\n",
      "Epoch 182000, loss_misfit: 2.72e-03, loss_f: 8.54e-04, loss: 3.57e-03, run time: 15.26382327079773s\n",
      "Epoch 183000, loss_misfit: 2.72e-03, loss_f: 7.98e-03, loss: 1.07e-02, run time: 15.04102611541748s\n",
      "Epoch 184000, loss_misfit: 2.71e-03, loss_f: 8.62e-04, loss: 3.57e-03, run time: 15.036237716674805s\n",
      "Epoch 185000, loss_misfit: 2.70e-03, loss_f: 1.74e-03, loss: 4.44e-03, run time: 15.009813785552979s\n",
      "Epoch 186000, loss_misfit: 2.70e-03, loss_f: 8.36e-04, loss: 3.54e-03, run time: 15.691007375717163s\n",
      "Epoch 187000, loss_misfit: 2.69e-03, loss_f: 8.32e-04, loss: 3.52e-03, run time: 15.758385181427002s\n",
      "Epoch 188000, loss_misfit: 2.69e-03, loss_f: 8.28e-04, loss: 3.52e-03, run time: 15.63133692741394s\n",
      "Epoch 189000, loss_misfit: 2.69e-03, loss_f: 8.36e-04, loss: 3.53e-03, run time: 15.05657148361206s\n",
      "Epoch 190000, loss_misfit: 2.69e-03, loss_f: 8.53e-04, loss: 3.54e-03, run time: 15.29485273361206s\n",
      "Epoch 191000, loss_misfit: 2.70e-03, loss_f: 4.54e-02, loss: 4.81e-02, run time: 15.005154848098755s\n",
      "Epoch 192000, loss_misfit: 2.67e-03, loss_f: 4.94e-03, loss: 7.61e-03, run time: 14.998317956924438s\n",
      "Epoch 193000, loss_misfit: 2.67e-03, loss_f: 8.16e-04, loss: 3.48e-03, run time: 15.115938901901245s\n",
      "Epoch 194000, loss_misfit: 2.67e-03, loss_f: 8.10e-04, loss: 3.48e-03, run time: 15.765438556671143s\n",
      "Epoch 195000, loss_misfit: 2.68e-03, loss_f: 1.48e-03, loss: 4.16e-03, run time: 16.158455848693848s\n",
      "Epoch 196000, loss_misfit: 2.67e-03, loss_f: 8.05e-04, loss: 3.48e-03, run time: 15.712796688079834s\n",
      "Epoch 197000, loss_misfit: 2.67e-03, loss_f: 8.07e-04, loss: 3.48e-03, run time: 14.81848430633545s\n",
      "Epoch 198000, loss_misfit: 2.65e-03, loss_f: 7.95e-04, loss: 3.45e-03, run time: 15.283199071884155s\n",
      "Epoch 199000, loss_misfit: 2.68e-03, loss_f: 8.09e-04, loss: 3.49e-03, run time: 16.196646451950073s\n",
      "Epoch 200000, loss_misfit: 2.67e-03, loss_f: 1.96e-02, loss: 2.23e-02, run time: 14.822680473327637s\n",
      "Epoch 201000, loss_misfit: 2.66e-03, loss_f: 7.92e-04, loss: 3.45e-03, run time: 15.669049978256226s\n",
      "Epoch 202000, loss_misfit: 2.70e-03, loss_f: 2.92e-01, loss: 2.94e-01, run time: 14.858486652374268s\n",
      "Epoch 203000, loss_misfit: 2.63e-03, loss_f: 1.51e-02, loss: 1.78e-02, run time: 14.871031999588013s\n",
      "Epoch 204000, loss_misfit: 2.63e-03, loss_f: 7.76e-04, loss: 3.41e-03, run time: 14.913207054138184s\n",
      "Epoch 205000, loss_misfit: 2.63e-03, loss_f: 2.66e-02, loss: 2.92e-02, run time: 15.289120197296143s\n",
      "Epoch 206000, loss_misfit: 2.63e-03, loss_f: 1.38e-03, loss: 4.00e-03, run time: 15.549907922744751s\n",
      "Epoch 207000, loss_misfit: 2.63e-03, loss_f: 6.65e-03, loss: 9.28e-03, run time: 15.87307095527649s\n",
      "Epoch 208000, loss_misfit: 2.62e-03, loss_f: 2.18e-03, loss: 4.79e-03, run time: 15.049569368362427s\n",
      "Epoch 209000, loss_misfit: 2.62e-03, loss_f: 8.19e-04, loss: 3.44e-03, run time: 15.465609312057495s\n",
      "Epoch 210000, loss_misfit: 2.62e-03, loss_f: 8.98e-04, loss: 3.52e-03, run time: 15.816467046737671s\n",
      "Epoch 211000, loss_misfit: 2.61e-03, loss_f: 9.12e-04, loss: 3.53e-03, run time: 14.821445941925049s\n",
      "Epoch 212000, loss_misfit: 2.61e-03, loss_f: 9.06e-04, loss: 3.51e-03, run time: 14.903251647949219s\n",
      "Epoch 213000, loss_misfit: 2.61e-03, loss_f: 8.59e-04, loss: 3.47e-03, run time: 14.926354885101318s\n",
      "Epoch 214000, loss_misfit: 2.58e-03, loss_f: 7.03e-02, loss: 7.29e-02, run time: 14.945226907730103s\n",
      "Epoch 215000, loss_misfit: 2.59e-03, loss_f: 7.53e-04, loss: 3.35e-03, run time: 14.889812707901001s\n",
      "Epoch 216000, loss_misfit: 2.59e-03, loss_f: 2.00e-03, loss: 4.60e-03, run time: 14.88505744934082s\n",
      "Epoch 217000, loss_misfit: 2.58e-03, loss_f: 7.42e-04, loss: 3.33e-03, run time: 14.879606485366821s\n",
      "Epoch 218000, loss_misfit: 2.58e-03, loss_f: 7.32e-04, loss: 3.31e-03, run time: 15.502160549163818s\n",
      "Epoch 219000, loss_misfit: 2.60e-03, loss_f: 7.39e-04, loss: 3.34e-03, run time: 16.07310938835144s\n",
      "Epoch 220000, loss_misfit: 2.58e-03, loss_f: 7.31e-04, loss: 3.31e-03, run time: 14.840133905410767s\n",
      "Epoch 221000, loss_misfit: 2.57e-03, loss_f: 7.22e-04, loss: 3.29e-03, run time: 16.412814378738403s\n",
      "Epoch 222000, loss_misfit: 2.58e-03, loss_f: 7.25e-04, loss: 3.31e-03, run time: 15.134254455566406s\n",
      "Epoch 223000, loss_misfit: 2.57e-03, loss_f: 7.19e-04, loss: 3.29e-03, run time: 14.932584047317505s\n",
      "Epoch 224000, loss_misfit: 2.58e-03, loss_f: 7.58e-04, loss: 3.33e-03, run time: 15.19136357307434s\n",
      "Epoch 225000, loss_misfit: 2.57e-03, loss_f: 7.13e-04, loss: 3.28e-03, run time: 16.131263494491577s\n",
      "Epoch 226000, loss_misfit: 2.58e-03, loss_f: 7.16e-04, loss: 3.29e-03, run time: 14.944612979888916s\n",
      "Epoch 227000, loss_misfit: 2.57e-03, loss_f: 7.91e-04, loss: 3.36e-03, run time: 14.827882766723633s\n",
      "Epoch 228000, loss_misfit: 2.54e-03, loss_f: 2.57e-01, loss: 2.59e-01, run time: 14.852626323699951s\n",
      "Epoch 229000, loss_misfit: 2.56e-03, loss_f: 7.32e-04, loss: 3.29e-03, run time: 14.97304105758667s\n",
      "Epoch 230000, loss_misfit: 2.56e-03, loss_f: 7.00e-04, loss: 3.26e-03, run time: 15.473018407821655s\n",
      "Epoch 231000, loss_misfit: 2.56e-03, loss_f: 7.02e-04, loss: 3.26e-03, run time: 15.686070919036865s\n",
      "Epoch 232000, loss_misfit: 2.55e-03, loss_f: 6.95e-04, loss: 3.25e-03, run time: 15.77140736579895s\n",
      "Epoch 233000, loss_misfit: 2.56e-03, loss_f: 7.03e-04, loss: 3.26e-03, run time: 14.874933242797852s\n",
      "Epoch 234000, loss_misfit: 2.57e-03, loss_f: 7.01e-04, loss: 3.27e-03, run time: 15.962162017822266s\n",
      "Epoch 235000, loss_misfit: 2.55e-03, loss_f: 1.86e-03, loss: 4.41e-03, run time: 14.823834657669067s\n",
      "Epoch 236000, loss_misfit: 2.54e-03, loss_f: 4.11e-03, loss: 6.66e-03, run time: 15.058191061019897s\n",
      "Epoch 237000, loss_misfit: 2.54e-03, loss_f: 9.24e-04, loss: 3.47e-03, run time: 15.030957460403442s\n",
      "Epoch 238000, loss_misfit: 2.54e-03, loss_f: 6.80e-04, loss: 3.22e-03, run time: 15.889393329620361s\n",
      "Epoch 239000, loss_misfit: 2.55e-03, loss_f: 1.46e-03, loss: 4.01e-03, run time: 15.652948141098022s\n",
      "Epoch 240000, loss_misfit: 2.54e-03, loss_f: 6.78e-04, loss: 3.22e-03, run time: 14.82338833808899s\n",
      "Epoch 241000, loss_misfit: 2.55e-03, loss_f: 1.54e-03, loss: 4.09e-03, run time: 15.287021160125732s\n",
      "Epoch 242000, loss_misfit: 2.54e-03, loss_f: 6.74e-04, loss: 3.21e-03, run time: 14.95522165298462s\n",
      "Epoch 243000, loss_misfit: 2.54e-03, loss_f: 7.65e-03, loss: 1.02e-02, run time: 15.04336142539978s\n",
      "Epoch 244000, loss_misfit: 2.53e-03, loss_f: 1.64e-03, loss: 4.17e-03, run time: 14.884231567382812s\n"
     ]
    }
   ],
   "source": [
    "start_time = time.time()\n",
    "model.train(X_u_train, u_train, X_f_train, epochs, learning_rate)\n",
    "Adam_time = time.time() - start_time\n",
    "print('Training time: {:.4f} seconds'.format((Adam_time)))"
   ]
  },
  {
   "cell_type": "markdown",
   "metadata": {
    "tags": []
   },
   "source": [
    "Adam_time = time.time() - start_time"
   ]
  },
  {
   "cell_type": "markdown",
   "metadata": {},
   "source": [
    "## LBFGS for Optimization Refinement"
   ]
  },
  {
   "cell_type": "code",
   "execution_count": null,
   "metadata": {
    "tags": []
   },
   "outputs": [],
   "source": [
    "start_time1 = time.time()\n",
    "## L-BFGS\n",
    "optimizer = torch.optim.LBFGS(model.parameters(), lr=1, tolerance_grad=1e-10, history_size=100, line_search_fn=\"strong_wolfe\")\n",
    "def closure():\n",
    "    optimizer.zero_grad()\n",
    "    loss, loss_u, loss_f = model.compute_loss(X_u_train, u_train, X_f_train)\n",
    "    loss.backward()\n",
    "    return loss\n",
    "for lbfgs_iter in range(5):\n",
    "    optimizer.step(closure)\n",
    "    loss, loss_u, loss_f = model.compute_loss(X_u_train, u_train, X_f_train)\n",
    "    if loss < model.best_loss:\n",
    "        model.best_loss = loss\n",
    "        model.best_model = deepcopy(model.state_dict())\n",
    "        model.best_u, model.best_m = model.forward(X_u_train)\n",
    "    print(f\"LBFGS: Loss_misfit: {loss_u.item():1.2e}, loss_f: {loss_f.item():1.2e}, loss: {loss.item():1.2e}\")\n",
    "    # print(f\"LBFGS: Loss_misfit: {loss_u.item():1.2e}, loss_f: {loss_f.item():1.2e}, loss: {loss.item():1.2e} , exp(m): {np.exp(model.m.item()):.5f}\")\n",
    "LBFGS_time = time.time() - start_time1\n",
    "print('LBFGS time: {:.4f} seconds'.format((LBFGS_time)))"
   ]
  },
  {
   "cell_type": "markdown",
   "metadata": {},
   "source": [
    "# Plot Results"
   ]
  },
  {
   "cell_type": "code",
   "execution_count": null,
   "metadata": {
    "tags": []
   },
   "outputs": [],
   "source": [
    "import matplotlib.pyplot as plt\n",
    "\n",
    "# obtain results after training\n",
    "u, m = model.best_u, model.best_m #model.forward(X_u_train)\n",
    "# m = model.m_compute(X_u_train)\n",
    "\n",
    "# error, error_label = np.sqrt(nmse(np.exp(m.compute_vertex_values()),  np.exp(mtrue_array))), 'NRMSE'\n",
    "fig, ax = plt.subplots(nrows=1, ncols=3, figsize=(15, 3.6)) \n",
    "ax[0].plot(X_u_train.cpu(),u_train.cpu(), '-', label=f'$u_d$: $n_x = {Nu}$', markersize=2, linewidth=2.5)\n",
    "ax[0].plot(X_u_train.cpu(),u.detach().cpu(), '--', label=r'$u_{sol}$', markersize=2, linewidth=2.5)\n",
    "# ax[0].plot(x, u_analytic, 'o', label=r'$A\\sin(2\\pi x)$', markersize=2, linewidth=2.5)\n",
    "ax[0].set_xlabel(r'$x$')\n",
    "ax[0].set_ylabel(r'$u$')\n",
    "ax[0].set_title(f'Data $u_d$ vs. Solution $u$: MSE = {loss_u.item():1.2e}', fontsize=15)\n",
    "ax[0].grid()\n",
    "ax[0].legend(fontsize=12)\n",
    "ax[1].plot(x_array, mtrue_array, '-', label=r'$m_{true}$', color='tab:blue', linewidth=2.5)\n",
    "# ax[1].plot(X_u_train,np.ones(Nu), '-', label=r'$m_{true}$', color='tab:blue', linewidth=2.5)\n",
    "ax[1].plot(X_u_train.cpu(),m.detach().cpu(), '--', label=r'$m_{sol}$', color='tab:red', linewidth=2.5)\n",
    "# ax[1].set_title(f'gamma = {gamma[kappa_min_ind]:.3e}')\n",
    "ax[1].set_xlabel(r'$x$')\n",
    "ax[1].set_ylabel(r'$m$')\n",
    "ax[1].set_title(f'Recovered vs. True Param', fontsize=15)\n",
    "ax[1].grid()\n",
    "ax[1].legend(fontsize=12)\n",
    "\n",
    "ax[2].plot(X_u_train.cpu(), abs(u_train.cpu() - u.detach().cpu()))\n",
    "# ax[2].plot(x, run.g_sun.compute_vertex_values())\n",
    "ax[2].set_title(f'Data Misfit: \\n $|u - u_d|$', fontsize=15)\n",
    "ax[2].set_xlabel(r'$x$')\n",
    "ax[2].set_ylabel(r'$|u_{sol} - u_d|$')\n",
    "ax[2].grid()\n",
    "\n",
    "print(f'MSE = {torch.mean((u_train.cpu() - u.detach().cpu())**2)}')\n",
    "# plt.savefig('Helm.png', dpi=300)\n",
    "plt.show()"
   ]
  },
  {
   "cell_type": "markdown",
   "metadata": {},
   "source": [
    "# Save Results"
   ]
  },
  {
   "cell_type": "code",
   "execution_count": 16,
   "metadata": {
    "tags": []
   },
   "outputs": [],
   "source": [
    "import sys\n",
    "import json\n",
    "sys.path.append('./../')\n",
    "from utils import increment_path"
   ]
  },
  {
   "cell_type": "code",
   "execution_count": 17,
   "metadata": {
    "tags": []
   },
   "outputs": [
    {
     "name": "stdout",
     "output_type": "stream",
     "text": [
      "log/Notebook_PINN_results06\n"
     ]
    }
   ],
   "source": [
    "dir_name = \"Notebook_PINN_results\"\n",
    "path_ = f'./log/{dir_name}'\n",
    "if 'save_path' not in locals():\n",
    "    save_path = increment_path(path_, mkdir=True)\n",
    "print(save_path)"
   ]
  },
  {
   "cell_type": "code",
   "execution_count": 18,
   "metadata": {
    "tags": []
   },
   "outputs": [],
   "source": [
    "# define results dict\n",
    "results = {\n",
    "    'adam_runtime': Adam_time,\n",
    "    'lbfgs_runtime': LBFGS_time,\n",
    "    'x_u_train': X_u_train.cpu().tolist(),\n",
    "    'u_train': u_train.cpu().tolist(),\n",
    "    'u_sol': u.detach().cpu().tolist(),\n",
    "    'm_sol': m.detach().cpu().tolist(),\n",
    "    'x_for_m_true': x_array.tolist(),\n",
    "    'm_true': mtrue_array.tolist(),\n",
    "}"
   ]
  },
  {
   "cell_type": "code",
   "execution_count": 19,
   "metadata": {
    "tags": []
   },
   "outputs": [],
   "source": [
    "with open(f'{save_path}/results.json', 'w') as f:\n",
    "    json.dump(results, f, indent=2)"
   ]
  },
  {
   "cell_type": "code",
   "execution_count": 20,
   "metadata": {
    "tags": []
   },
   "outputs": [],
   "source": [
    "torch.save(model,f'{save_path}/model.pt')"
   ]
  },
  {
   "cell_type": "code",
   "execution_count": 14,
   "metadata": {
    "tags": []
   },
   "outputs": [
    {
     "ename": "FileNotFoundError",
     "evalue": "[Errno 2] No such file or directory: 'log/Notebook_PINN_results04/model.pt'",
     "output_type": "error",
     "traceback": [
      "\u001b[0;31m---------------------------------------------------------------------------\u001b[0m",
      "\u001b[0;31mFileNotFoundError\u001b[0m                         Traceback (most recent call last)",
      "Input \u001b[0;32mIn [14]\u001b[0m, in \u001b[0;36m<module>\u001b[0;34m\u001b[0m\n\u001b[1;32m      1\u001b[0m layers \u001b[38;5;241m=\u001b[39m [\u001b[38;5;241m1\u001b[39m, \u001b[38;5;241m50\u001b[39m, \u001b[38;5;241m50\u001b[39m, \u001b[38;5;241m50\u001b[39m, \u001b[38;5;241m50\u001b[39m, \u001b[38;5;241m50\u001b[39m, \u001b[38;5;241m50\u001b[39m, \u001b[38;5;241m1\u001b[39m]\n\u001b[1;32m      2\u001b[0m test_model \u001b[38;5;241m=\u001b[39m PINN(layers)\n\u001b[0;32m----> 3\u001b[0m test_model\u001b[38;5;241m.\u001b[39mload_state_dict(\u001b[43mtorch\u001b[49m\u001b[38;5;241;43m.\u001b[39;49m\u001b[43mload\u001b[49m\u001b[43m(\u001b[49m\u001b[38;5;124;43mf\u001b[39;49m\u001b[38;5;124;43m'\u001b[39;49m\u001b[38;5;132;43;01m{\u001b[39;49;00m\u001b[43msave_path\u001b[49m\u001b[38;5;132;43;01m}\u001b[39;49;00m\u001b[38;5;124;43m/model.pt\u001b[39;49m\u001b[38;5;124;43m'\u001b[39;49m\u001b[43m,\u001b[49m\u001b[43m \u001b[49m\u001b[43mweights_only\u001b[49m\u001b[38;5;241;43m=\u001b[39;49m\u001b[38;5;28;43;01mTrue\u001b[39;49;00m\u001b[43m)\u001b[49m)\n\u001b[1;32m      5\u001b[0m test_model\u001b[38;5;241m.\u001b[39mto(device)\n",
      "File \u001b[0;32m~/venv_PINN_FEM/lib/python3.9/site-packages/torch/serialization.py:1065\u001b[0m, in \u001b[0;36mload\u001b[0;34m(f, map_location, pickle_module, weights_only, mmap, **pickle_load_args)\u001b[0m\n\u001b[1;32m   1062\u001b[0m \u001b[38;5;28;01mif\u001b[39;00m \u001b[38;5;124m'\u001b[39m\u001b[38;5;124mencoding\u001b[39m\u001b[38;5;124m'\u001b[39m \u001b[38;5;129;01mnot\u001b[39;00m \u001b[38;5;129;01min\u001b[39;00m pickle_load_args\u001b[38;5;241m.\u001b[39mkeys():\n\u001b[1;32m   1063\u001b[0m     pickle_load_args[\u001b[38;5;124m'\u001b[39m\u001b[38;5;124mencoding\u001b[39m\u001b[38;5;124m'\u001b[39m] \u001b[38;5;241m=\u001b[39m \u001b[38;5;124m'\u001b[39m\u001b[38;5;124mutf-8\u001b[39m\u001b[38;5;124m'\u001b[39m\n\u001b[0;32m-> 1065\u001b[0m \u001b[38;5;28;01mwith\u001b[39;00m \u001b[43m_open_file_like\u001b[49m\u001b[43m(\u001b[49m\u001b[43mf\u001b[49m\u001b[43m,\u001b[49m\u001b[43m \u001b[49m\u001b[38;5;124;43m'\u001b[39;49m\u001b[38;5;124;43mrb\u001b[39;49m\u001b[38;5;124;43m'\u001b[39;49m\u001b[43m)\u001b[49m \u001b[38;5;28;01mas\u001b[39;00m opened_file:\n\u001b[1;32m   1066\u001b[0m     \u001b[38;5;28;01mif\u001b[39;00m _is_zipfile(opened_file):\n\u001b[1;32m   1067\u001b[0m         \u001b[38;5;66;03m# The zipfile reader is going to advance the current file position.\u001b[39;00m\n\u001b[1;32m   1068\u001b[0m         \u001b[38;5;66;03m# If we want to actually tail call to torch.jit.load, we need to\u001b[39;00m\n\u001b[1;32m   1069\u001b[0m         \u001b[38;5;66;03m# reset back to the original position.\u001b[39;00m\n\u001b[1;32m   1070\u001b[0m         orig_position \u001b[38;5;241m=\u001b[39m opened_file\u001b[38;5;241m.\u001b[39mtell()\n",
      "File \u001b[0;32m~/venv_PINN_FEM/lib/python3.9/site-packages/torch/serialization.py:468\u001b[0m, in \u001b[0;36m_open_file_like\u001b[0;34m(name_or_buffer, mode)\u001b[0m\n\u001b[1;32m    466\u001b[0m \u001b[38;5;28;01mdef\u001b[39;00m \u001b[38;5;21m_open_file_like\u001b[39m(name_or_buffer, mode):\n\u001b[1;32m    467\u001b[0m     \u001b[38;5;28;01mif\u001b[39;00m _is_path(name_or_buffer):\n\u001b[0;32m--> 468\u001b[0m         \u001b[38;5;28;01mreturn\u001b[39;00m \u001b[43m_open_file\u001b[49m\u001b[43m(\u001b[49m\u001b[43mname_or_buffer\u001b[49m\u001b[43m,\u001b[49m\u001b[43m \u001b[49m\u001b[43mmode\u001b[49m\u001b[43m)\u001b[49m\n\u001b[1;32m    469\u001b[0m     \u001b[38;5;28;01melse\u001b[39;00m:\n\u001b[1;32m    470\u001b[0m         \u001b[38;5;28;01mif\u001b[39;00m \u001b[38;5;124m'\u001b[39m\u001b[38;5;124mw\u001b[39m\u001b[38;5;124m'\u001b[39m \u001b[38;5;129;01min\u001b[39;00m mode:\n",
      "File \u001b[0;32m~/venv_PINN_FEM/lib/python3.9/site-packages/torch/serialization.py:449\u001b[0m, in \u001b[0;36m_open_file.__init__\u001b[0;34m(self, name, mode)\u001b[0m\n\u001b[1;32m    448\u001b[0m \u001b[38;5;28;01mdef\u001b[39;00m \u001b[38;5;21m__init__\u001b[39m(\u001b[38;5;28mself\u001b[39m, name, mode):\n\u001b[0;32m--> 449\u001b[0m     \u001b[38;5;28msuper\u001b[39m()\u001b[38;5;241m.\u001b[39m\u001b[38;5;21m__init__\u001b[39m(\u001b[38;5;28;43mopen\u001b[39;49m\u001b[43m(\u001b[49m\u001b[43mname\u001b[49m\u001b[43m,\u001b[49m\u001b[43m \u001b[49m\u001b[43mmode\u001b[49m\u001b[43m)\u001b[49m)\n",
      "\u001b[0;31mFileNotFoundError\u001b[0m: [Errno 2] No such file or directory: 'log/Notebook_PINN_results04/model.pt'"
     ]
    }
   ],
   "source": [
    "layers = [1, 50, 50, 50, 50, 50, 50, 1]\n",
    "test_model = PINN(layers)\n",
    "test_model.load_state_dict(torch.load(f'{save_path}/model.pt', weights_only=True))\n",
    "\n",
    "test_model.to(device)"
   ]
  },
  {
   "cell_type": "code",
   "execution_count": 26,
   "metadata": {
    "tags": []
   },
   "outputs": [
    {
     "name": "stdout",
     "output_type": "stream",
     "text": [
      "MSE = 0.0007030429551377892\n"
     ]
    },
    {
     "data": {
      "image/png": "[encoded data removed]",
      "text/plain": [
       "<Figure size 1080x259.2 with 3 Axes>"
      ]
     },
     "metadata": {
      "needs_background": "light"
     },
     "output_type": "display_data"
    }
   ],
   "source": [
    "# obtain results after training\n",
    "u, m = test_model.forward(X_u_train)\n",
    "# m = model.m_compute(X_u_train)\n",
    "\n",
    "# error, error_label = np.sqrt(nmse(np.exp(m.compute_vertex_values()),  np.exp(mtrue_array))), 'NRMSE'\n",
    "fig, ax = plt.subplots(nrows=1, ncols=3, figsize=(15, 3.6)) \n",
    "ax[0].plot(X_u_train.cpu(),u_train.cpu(), '-', label=f'$u_d$: $n_x = {Nu}$', markersize=2, linewidth=2.5)\n",
    "ax[0].plot(X_u_train.cpu(),u.detach().cpu(), '--', label=r'$u_{sol}$', markersize=2, linewidth=2.5)\n",
    "# ax[0].plot(x, u_analytic, 'o', label=r'$A\\sin(2\\pi x)$', markersize=2, linewidth=2.5)\n",
    "ax[0].set_xlabel(r'$x$')\n",
    "ax[0].set_ylabel(r'$u$')\n",
    "ax[0].set_title(f'Data $u_d$ vs. Solution $u$: MSE = {loss_u.item():1.2e}', fontsize=15)\n",
    "ax[0].grid()\n",
    "ax[0].legend(fontsize=12)\n",
    "ax[1].plot(x_array, mtrue_array, '-', label=r'$m_{true}$', color='tab:blue', linewidth=2.5)\n",
    "# ax[1].plot(X_u_train,np.ones(Nu), '-', label=r'$m_{true}$', color='tab:blue', linewidth=2.5)\n",
    "ax[1].plot(X_u_train.cpu(),m.detach().cpu(), '--', label=r'$m_{sol}$', color='tab:red', linewidth=2.5)\n",
    "# ax[1].set_title(f'gamma = {gamma[kappa_min_ind]:.3e}')\n",
    "ax[1].set_xlabel(r'$x$')\n",
    "ax[1].set_ylabel(r'$m$')\n",
    "ax[1].set_title(f'Recovered vs. True Param', fontsize=15)\n",
    "ax[1].grid()\n",
    "ax[1].legend(fontsize=12)\n",
    "\n",
    "ax[2].plot(X_u_train.cpu(), abs(u_train.cpu() - u.detach().cpu()))\n",
    "# ax[2].plot(x, run.g_sun.compute_vertex_values())\n",
    "ax[2].set_title(f'Data Misfit: \\n $|u - u_d|$', fontsize=15)\n",
    "ax[2].set_xlabel(r'$x$')\n",
    "ax[2].set_ylabel(r'$|u_{sol} - u_d|$')\n",
    "ax[2].grid()\n",
    "\n",
    "print(f'MSE = {torch.mean((u_train.cpu() - u.detach().cpu())**2)}')\n",
    "# plt.savefig('Helm.png', dpi=300)\n",
    "plt.show()"
   ]
  },
  {
   "cell_type": "code",
   "execution_count": 52,
   "metadata": {
    "tags": []
   },
   "outputs": [],
   "source": [
    "test_model = PINN(layers)#.to(device)"
   ]
  },
  {
   "cell_type": "code",
   "execution_count": 53,
   "metadata": {
    "tags": []
   },
   "outputs": [
    {
     "data": {
      "text/plain": [
       "<All keys matched successfully>"
      ]
     },
     "execution_count": 53,
     "metadata": {},
     "output_type": "execute_result"
    }
   ],
   "source": [
    "test_model.load_state_dict(model.state_dict())"
   ]
  },
  {
   "cell_type": "code",
   "execution_count": 54,
   "metadata": {
    "tags": []
   },
   "outputs": [
    {
     "ename": "RuntimeError",
     "evalue": "Expected all tensors to be on the same device, but found at least two devices, cpu and cuda:0! (when checking argument for argument mat1 in method wrapper_CUDA_addmm)",
     "output_type": "error",
     "traceback": [
      "\u001b[0;31m---------------------------------------------------------------------------\u001b[0m",
      "\u001b[0;31mRuntimeError\u001b[0m                              Traceback (most recent call last)",
      "Input \u001b[0;32mIn [54]\u001b[0m, in \u001b[0;36m<module>\u001b[0;34m\u001b[0m\n\u001b[1;32m      1\u001b[0m \u001b[38;5;28;01mimport\u001b[39;00m \u001b[38;5;21;01mmatplotlib\u001b[39;00m\u001b[38;5;21;01m.\u001b[39;00m\u001b[38;5;21;01mpyplot\u001b[39;00m \u001b[38;5;28;01mas\u001b[39;00m \u001b[38;5;21;01mplt\u001b[39;00m\n\u001b[1;32m      3\u001b[0m \u001b[38;5;66;03m# obtain results after training\u001b[39;00m\n\u001b[0;32m----> 4\u001b[0m u, m \u001b[38;5;241m=\u001b[39m \u001b[43mtest_model\u001b[49m\u001b[38;5;241;43m.\u001b[39;49m\u001b[43mforward\u001b[49m\u001b[43m(\u001b[49m\u001b[43mX_u_train\u001b[49m\u001b[43m)\u001b[49m\n\u001b[1;32m      5\u001b[0m \u001b[38;5;66;03m# m = model.m_compute(X_u_train)\u001b[39;00m\n\u001b[1;32m      6\u001b[0m \n\u001b[1;32m      7\u001b[0m \u001b[38;5;66;03m# error, error_label = np.sqrt(nmse(np.exp(m.compute_vertex_values()),  np.exp(mtrue_array))), 'NRMSE'\u001b[39;00m\n\u001b[1;32m      8\u001b[0m fig, ax \u001b[38;5;241m=\u001b[39m plt\u001b[38;5;241m.\u001b[39msubplots(nrows\u001b[38;5;241m=\u001b[39m\u001b[38;5;241m1\u001b[39m, ncols\u001b[38;5;241m=\u001b[39m\u001b[38;5;241m3\u001b[39m, figsize\u001b[38;5;241m=\u001b[39m(\u001b[38;5;241m15\u001b[39m, \u001b[38;5;241m3.6\u001b[39m)) \n",
      "Input \u001b[0;32mIn [5]\u001b[0m, in \u001b[0;36mPINN.forward\u001b[0;34m(self, x)\u001b[0m\n\u001b[1;32m     31\u001b[0m \u001b[38;5;66;03m# compute m first\u001b[39;00m\n\u001b[1;32m     32\u001b[0m x_copy \u001b[38;5;241m=\u001b[39m x\u001b[38;5;241m.\u001b[39mclone()\n\u001b[0;32m---> 33\u001b[0m m \u001b[38;5;241m=\u001b[39m \u001b[38;5;28;43mself\u001b[39;49m\u001b[38;5;241;43m.\u001b[39;49m\u001b[43mm_compute\u001b[49m\u001b[43m(\u001b[49m\u001b[43mx_copy\u001b[49m\u001b[43m)\u001b[49m\n\u001b[1;32m     35\u001b[0m \u001b[38;5;66;03m# identity1 = self.linears[0](x)\u001b[39;00m\n\u001b[1;32m     36\u001b[0m \u001b[38;5;66;03m# identity2 = self.linears[1](identity1)\u001b[39;00m\n\u001b[1;32m     37\u001b[0m \u001b[38;5;28;01mfor\u001b[39;00m i, linear \u001b[38;5;129;01min\u001b[39;00m \u001b[38;5;28menumerate\u001b[39m(\u001b[38;5;28mself\u001b[39m\u001b[38;5;241m.\u001b[39mlinears[:\u001b[38;5;241m-\u001b[39m\u001b[38;5;241m1\u001b[39m]):\n",
      "Input \u001b[0;32mIn [5]\u001b[0m, in \u001b[0;36mPINN.m_compute\u001b[0;34m(self, x)\u001b[0m\n\u001b[1;32m     50\u001b[0m \u001b[38;5;66;03m#preprocessing input \u001b[39;00m\n\u001b[1;32m     51\u001b[0m \n\u001b[1;32m     52\u001b[0m \u001b[38;5;66;03m# identity1 = self.linears_m[0](x)\u001b[39;00m\n\u001b[1;32m     53\u001b[0m \u001b[38;5;66;03m# identity2 = self.linears_m[1](identity1)\u001b[39;00m\n\u001b[1;32m     54\u001b[0m \u001b[38;5;28;01mfor\u001b[39;00m i, linear \u001b[38;5;129;01min\u001b[39;00m \u001b[38;5;28menumerate\u001b[39m(\u001b[38;5;28mself\u001b[39m\u001b[38;5;241m.\u001b[39mlinears_m[:\u001b[38;5;241m-\u001b[39m\u001b[38;5;241m1\u001b[39m]):\n\u001b[0;32m---> 55\u001b[0m     x \u001b[38;5;241m=\u001b[39m \u001b[38;5;28mself\u001b[39m\u001b[38;5;241m.\u001b[39mactivation(\u001b[43mlinear\u001b[49m\u001b[43m(\u001b[49m\u001b[43mx\u001b[49m\u001b[43m)\u001b[49m)\n\u001b[1;32m     56\u001b[0m     \u001b[38;5;66;03m# if i == self.num_layers - 2:\u001b[39;00m\n\u001b[1;32m     57\u001b[0m     \u001b[38;5;66;03m#     x += identity2\u001b[39;00m\n\u001b[1;32m     58\u001b[0m     \u001b[38;5;66;03m# elif i == self.num_layers - 1:\u001b[39;00m\n\u001b[1;32m     59\u001b[0m     \u001b[38;5;66;03m#     x += identity1\u001b[39;00m\n\u001b[1;32m     60\u001b[0m x \u001b[38;5;241m=\u001b[39m \u001b[38;5;28mself\u001b[39m\u001b[38;5;241m.\u001b[39mlinears_m[\u001b[38;5;241m-\u001b[39m\u001b[38;5;241m1\u001b[39m](x)  \u001b[38;5;66;03m# No activation on the last layer (u)\u001b[39;00m\n",
      "File \u001b[0;32m~/venv_PINN_FEM/lib/python3.9/site-packages/torch/nn/modules/module.py:1553\u001b[0m, in \u001b[0;36mModule._wrapped_call_impl\u001b[0;34m(self, *args, **kwargs)\u001b[0m\n\u001b[1;32m   1551\u001b[0m     \u001b[38;5;28;01mreturn\u001b[39;00m \u001b[38;5;28mself\u001b[39m\u001b[38;5;241m.\u001b[39m_compiled_call_impl(\u001b[38;5;241m*\u001b[39margs, \u001b[38;5;241m*\u001b[39m\u001b[38;5;241m*\u001b[39mkwargs)  \u001b[38;5;66;03m# type: ignore[misc]\u001b[39;00m\n\u001b[1;32m   1552\u001b[0m \u001b[38;5;28;01melse\u001b[39;00m:\n\u001b[0;32m-> 1553\u001b[0m     \u001b[38;5;28;01mreturn\u001b[39;00m \u001b[38;5;28;43mself\u001b[39;49m\u001b[38;5;241;43m.\u001b[39;49m\u001b[43m_call_impl\u001b[49m\u001b[43m(\u001b[49m\u001b[38;5;241;43m*\u001b[39;49m\u001b[43margs\u001b[49m\u001b[43m,\u001b[49m\u001b[43m \u001b[49m\u001b[38;5;241;43m*\u001b[39;49m\u001b[38;5;241;43m*\u001b[39;49m\u001b[43mkwargs\u001b[49m\u001b[43m)\u001b[49m\n",
      "File \u001b[0;32m~/venv_PINN_FEM/lib/python3.9/site-packages/torch/nn/modules/module.py:1562\u001b[0m, in \u001b[0;36mModule._call_impl\u001b[0;34m(self, *args, **kwargs)\u001b[0m\n\u001b[1;32m   1557\u001b[0m \u001b[38;5;66;03m# If we don't have any hooks, we want to skip the rest of the logic in\u001b[39;00m\n\u001b[1;32m   1558\u001b[0m \u001b[38;5;66;03m# this function, and just call forward.\u001b[39;00m\n\u001b[1;32m   1559\u001b[0m \u001b[38;5;28;01mif\u001b[39;00m \u001b[38;5;129;01mnot\u001b[39;00m (\u001b[38;5;28mself\u001b[39m\u001b[38;5;241m.\u001b[39m_backward_hooks \u001b[38;5;129;01mor\u001b[39;00m \u001b[38;5;28mself\u001b[39m\u001b[38;5;241m.\u001b[39m_backward_pre_hooks \u001b[38;5;129;01mor\u001b[39;00m \u001b[38;5;28mself\u001b[39m\u001b[38;5;241m.\u001b[39m_forward_hooks \u001b[38;5;129;01mor\u001b[39;00m \u001b[38;5;28mself\u001b[39m\u001b[38;5;241m.\u001b[39m_forward_pre_hooks\n\u001b[1;32m   1560\u001b[0m         \u001b[38;5;129;01mor\u001b[39;00m _global_backward_pre_hooks \u001b[38;5;129;01mor\u001b[39;00m _global_backward_hooks\n\u001b[1;32m   1561\u001b[0m         \u001b[38;5;129;01mor\u001b[39;00m _global_forward_hooks \u001b[38;5;129;01mor\u001b[39;00m _global_forward_pre_hooks):\n\u001b[0;32m-> 1562\u001b[0m     \u001b[38;5;28;01mreturn\u001b[39;00m \u001b[43mforward_call\u001b[49m\u001b[43m(\u001b[49m\u001b[38;5;241;43m*\u001b[39;49m\u001b[43margs\u001b[49m\u001b[43m,\u001b[49m\u001b[43m \u001b[49m\u001b[38;5;241;43m*\u001b[39;49m\u001b[38;5;241;43m*\u001b[39;49m\u001b[43mkwargs\u001b[49m\u001b[43m)\u001b[49m\n\u001b[1;32m   1564\u001b[0m \u001b[38;5;28;01mtry\u001b[39;00m:\n\u001b[1;32m   1565\u001b[0m     result \u001b[38;5;241m=\u001b[39m \u001b[38;5;28;01mNone\u001b[39;00m\n",
      "File \u001b[0;32m~/venv_PINN_FEM/lib/python3.9/site-packages/torch/nn/modules/linear.py:117\u001b[0m, in \u001b[0;36mLinear.forward\u001b[0;34m(self, input)\u001b[0m\n\u001b[1;32m    116\u001b[0m \u001b[38;5;28;01mdef\u001b[39;00m \u001b[38;5;21mforward\u001b[39m(\u001b[38;5;28mself\u001b[39m, \u001b[38;5;28minput\u001b[39m: Tensor) \u001b[38;5;241m-\u001b[39m\u001b[38;5;241m>\u001b[39m Tensor:\n\u001b[0;32m--> 117\u001b[0m     \u001b[38;5;28;01mreturn\u001b[39;00m \u001b[43mF\u001b[49m\u001b[38;5;241;43m.\u001b[39;49m\u001b[43mlinear\u001b[49m\u001b[43m(\u001b[49m\u001b[38;5;28;43minput\u001b[39;49m\u001b[43m,\u001b[49m\u001b[43m \u001b[49m\u001b[38;5;28;43mself\u001b[39;49m\u001b[38;5;241;43m.\u001b[39;49m\u001b[43mweight\u001b[49m\u001b[43m,\u001b[49m\u001b[43m \u001b[49m\u001b[38;5;28;43mself\u001b[39;49m\u001b[38;5;241;43m.\u001b[39;49m\u001b[43mbias\u001b[49m\u001b[43m)\u001b[49m\n",
      "\u001b[0;31mRuntimeError\u001b[0m: Expected all tensors to be on the same device, but found at least two devices, cpu and cuda:0! (when checking argument for argument mat1 in method wrapper_CUDA_addmm)"
     ]
    }
   ],
   "source": [
    "import matplotlib.pyplot as plt\n",
    "\n",
    "# obtain results after training\n",
    "u, m = test_model.forward(X_u_train)\n",
    "# m = model.m_compute(X_u_train)\n",
    "\n",
    "# error, error_label = np.sqrt(nmse(np.exp(m.compute_vertex_values()),  np.exp(mtrue_array))), 'NRMSE'\n",
    "fig, ax = plt.subplots(nrows=1, ncols=3, figsize=(15, 3.6)) \n",
    "ax[0].plot(X_u_train.cpu(),u_train.cpu(), '-', label=f'$u_d$: $n_x = {Nu}$', markersize=2, linewidth=2.5)\n",
    "ax[0].plot(X_u_train.cpu(),u.detach().cpu(), '--', label=r'$u_{sol}$', markersize=2, linewidth=2.5)\n",
    "# ax[0].plot(x, u_analytic, 'o', label=r'$A\\sin(2\\pi x)$', markersize=2, linewidth=2.5)\n",
    "ax[0].set_xlabel(r'$x$')\n",
    "ax[0].set_ylabel(r'$u$')\n",
    "ax[0].set_title(f'Data $u_d$ vs. Solution $u$: MSE = {loss_u.item():1.2e}', fontsize=15)\n",
    "ax[0].grid()\n",
    "ax[0].legend(fontsize=12)\n",
    "ax[1].plot(x_array, mtrue_array, '-', label=r'$m_{true}$', color='tab:blue', linewidth=2.5)\n",
    "# ax[1].plot(X_u_train,np.ones(Nu), '-', label=r'$m_{true}$', color='tab:blue', linewidth=2.5)\n",
    "ax[1].plot(X_u_train.cpu(),m.detach().cpu(), '--', label=r'$m_{sol}$', color='tab:red', linewidth=2.5)\n",
    "# ax[1].set_title(f'gamma = {gamma[kappa_min_ind]:.3e}')\n",
    "ax[1].set_xlabel(r'$x$')\n",
    "ax[1].set_ylabel(r'$m$')\n",
    "ax[1].set_title(f'Recovered vs. True Param', fontsize=15)\n",
    "ax[1].grid()\n",
    "ax[1].legend(fontsize=12)\n",
    "\n",
    "ax[2].plot(X_u_train.cpu(), abs(u_train.cpu() - u.detach().cpu()))\n",
    "# ax[2].plot(x, run.g_sun.compute_vertex_values())\n",
    "ax[2].set_title(f'Data Misfit: \\n $|u - u_d|$', fontsize=15)\n",
    "ax[2].set_xlabel(r'$x$')\n",
    "ax[2].set_ylabel(r'$|u_{sol} - u_d|$')\n",
    "ax[2].grid()\n",
    "\n",
    "print(f'MSE = {torch.mean((u_train.cpu() - u.detach().cpu())**2)}')\n",
    "# plt.savefig('Helm.png', dpi=300)\n",
    "plt.show()"
   ]
  },
  {
   "cell_type": "code",
   "execution_count": 15,
   "metadata": {
    "tags": []
   },
   "outputs": [],
   "source": []
  },
  {
   "cell_type": "markdown",
   "metadata": {},
   "source": [
    "# Simpler Example"
   ]
  },
  {
   "cell_type": "code",
   "execution_count": 2,
   "metadata": {
    "tags": []
   },
   "outputs": [],
   "source": [
    "import torch\n",
    "import torch.nn as nn\n",
    "import numpy as np\n",
    "import time\n",
    "import pandas as pd\n",
    "import os\n",
    "from copy import deepcopy\n",
    "from pyDOE import lhs # Latin Hypercube Sampling"
   ]
  },
  {
   "cell_type": "code",
   "execution_count": 3,
   "metadata": {
    "tags": []
   },
   "outputs": [
    {
     "name": "stdout",
     "output_type": "stream",
     "text": [
      "Using device: cuda\n"
     ]
    }
   ],
   "source": [
    "# Check if CUDA is available, otherwise use CPU\n",
    "device = torch.device('cuda' if torch.cuda.is_available() else 'cpu')\n",
    "print(f\"Using device: {device}\")"
   ]
  },
  {
   "cell_type": "code",
   "execution_count": 6,
   "metadata": {
    "tags": []
   },
   "outputs": [
    {
     "ename": "TypeError",
     "evalue": "can't convert cuda:0 device type tensor to numpy. Use Tensor.cpu() to copy the tensor to host memory first.",
     "output_type": "error",
     "traceback": [
      "\u001b[0;31m---------------------------------------------------------------------------\u001b[0m",
      "\u001b[0;31mTypeError\u001b[0m                                 Traceback (most recent call last)",
      "Input \u001b[0;32mIn [6]\u001b[0m, in \u001b[0;36m<module>\u001b[0;34m\u001b[0m\n\u001b[1;32m      8\u001b[0m X_u_train \u001b[38;5;241m=\u001b[39m torch\u001b[38;5;241m.\u001b[39mlinspace(a,b, Nu, dtype\u001b[38;5;241m=\u001b[39mtorch\u001b[38;5;241m.\u001b[39mfloat32)[:, \u001b[38;5;28;01mNone\u001b[39;00m]\u001b[38;5;241m.\u001b[39mto(device)\n\u001b[1;32m      9\u001b[0m X_f_train \u001b[38;5;241m=\u001b[39m torch\u001b[38;5;241m.\u001b[39mtensor(lhs(\u001b[38;5;241m1\u001b[39m, Nf), dtype\u001b[38;5;241m=\u001b[39mtorch\u001b[38;5;241m.\u001b[39mfloat32)\u001b[38;5;241m.\u001b[39mto(device)\n\u001b[0;32m---> 10\u001b[0m u_train \u001b[38;5;241m=\u001b[39m \u001b[43mtrue_solution\u001b[49m\u001b[43m(\u001b[49m\u001b[43mX_u_train\u001b[49m\u001b[43m)\u001b[49m\n",
      "Input \u001b[0;32mIn [6]\u001b[0m, in \u001b[0;36mtrue_solution\u001b[0;34m(x)\u001b[0m\n\u001b[1;32m      5\u001b[0m \u001b[38;5;28;01mdef\u001b[39;00m \u001b[38;5;21mtrue_solution\u001b[39m(x):\n\u001b[0;32m----> 6\u001b[0m     \u001b[38;5;28;01mreturn\u001b[39;00m \u001b[43mnp\u001b[49m\u001b[38;5;241;43m.\u001b[39;49m\u001b[43msin\u001b[49m\u001b[43m(\u001b[49m\u001b[38;5;241;43m2\u001b[39;49m\u001b[43m \u001b[49m\u001b[38;5;241;43m*\u001b[39;49m\u001b[43m \u001b[49m\u001b[43mtorch\u001b[49m\u001b[38;5;241;43m.\u001b[39;49m\u001b[43mpi\u001b[49m\u001b[43m \u001b[49m\u001b[38;5;241;43m*\u001b[39;49m\u001b[43m \u001b[49m\u001b[43mx\u001b[49m\u001b[43m)\u001b[49m \u001b[38;5;241m/\u001b[39m ((\u001b[38;5;241m2\u001b[39m\u001b[38;5;241m*\u001b[39m torch\u001b[38;5;241m.\u001b[39mpi)\u001b[38;5;241m*\u001b[39m\u001b[38;5;241m*\u001b[39m\u001b[38;5;241m2\u001b[39m \u001b[38;5;241m+\u001b[39m \u001b[38;5;241m10\u001b[39m)\n",
      "File \u001b[0;32m~/venv_PINN_FEM/lib/python3.9/site-packages/torch/_tensor.py:1083\u001b[0m, in \u001b[0;36mTensor.__array__\u001b[0;34m(self, dtype)\u001b[0m\n\u001b[1;32m   1081\u001b[0m     \u001b[38;5;28;01mreturn\u001b[39;00m handle_torch_function(Tensor\u001b[38;5;241m.\u001b[39m__array__, (\u001b[38;5;28mself\u001b[39m,), \u001b[38;5;28mself\u001b[39m, dtype\u001b[38;5;241m=\u001b[39mdtype)\n\u001b[1;32m   1082\u001b[0m \u001b[38;5;28;01mif\u001b[39;00m dtype \u001b[38;5;129;01mis\u001b[39;00m \u001b[38;5;28;01mNone\u001b[39;00m:\n\u001b[0;32m-> 1083\u001b[0m     \u001b[38;5;28;01mreturn\u001b[39;00m \u001b[38;5;28;43mself\u001b[39;49m\u001b[38;5;241;43m.\u001b[39;49m\u001b[43mnumpy\u001b[49m\u001b[43m(\u001b[49m\u001b[43m)\u001b[49m\n\u001b[1;32m   1084\u001b[0m \u001b[38;5;28;01melse\u001b[39;00m:\n\u001b[1;32m   1085\u001b[0m     \u001b[38;5;28;01mreturn\u001b[39;00m \u001b[38;5;28mself\u001b[39m\u001b[38;5;241m.\u001b[39mnumpy()\u001b[38;5;241m.\u001b[39mastype(dtype, copy\u001b[38;5;241m=\u001b[39m\u001b[38;5;28;01mFalse\u001b[39;00m)\n",
      "\u001b[0;31mTypeError\u001b[0m: can't convert cuda:0 device type tensor to numpy. Use Tensor.cpu() to copy the tensor to host memory first."
     ]
    }
   ],
   "source": [
    "Nu = 256\n",
    "Nf = 1000\n",
    "a, b = 0.0, 1.0\n",
    "\n",
    "def true_solution(x):\n",
    "    return np.sin(2 * torch.pi * x) / ((2* torch.pi)**2 + 10)\n",
    "\n",
    "X_u_train = torch.linspace(a,b, Nu, dtype=torch.float32)[:, None].to(device)\n",
    "X_f_train = torch.tensor(lhs(1, Nf), dtype=torch.float32).to(device)\n",
    "u_train = true_solution(X_u_train)"
   ]
  },
  {
   "cell_type": "code",
   "execution_count": null,
   "metadata": {},
   "outputs": [],
   "source": []
  }
 ],
 "metadata": {
  "kernelspec": {
   "display_name": "FEM_PINN_kernel",
   "language": "python",
   "name": "fem_pinn_kernel"
  },
  "language_info": {
   "codemirror_mode": {
    "name": "ipython",
    "version": 3
   },
   "file_extension": ".py",
   "mimetype": "text/x-python",
   "name": "python",
   "nbconvert_exporter": "python",
   "pygments_lexer": "ipython3",
   "version": "3.9.12"
  }
 },
 "nbformat": 4,
 "nbformat_minor": 4
}

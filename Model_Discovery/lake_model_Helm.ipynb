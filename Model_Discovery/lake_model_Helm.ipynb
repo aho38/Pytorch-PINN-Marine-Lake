{
 "cells": [
  {
   "cell_type": "code",
   "execution_count": 4,
   "metadata": {},
   "outputs": [],
   "source": [
    "import torch\n",
    "import torch.nn as nn\n",
    "import numpy as np\n",
    "from pyDOE import lhs # Latin Hypercube Sampling"
   ]
  },
  {
   "cell_type": "code",
   "execution_count": 5,
   "metadata": {},
   "outputs": [],
   "source": [
    "Nx = 256\n",
    "a, b = 0.0, 1.0\n",
    "\n",
    "x = np.linspace(a,b, Nx)\n",
    "x_f "
   ]
  },
  {
   "cell_type": "code",
   "execution_count": 2,
   "metadata": {},
   "outputs": [],
   "source": [
    "import pandas as pd\n",
    "\n",
    "df = pd.read_csv('./synthetic_data/synthetic_data.csv')"
   ]
  },
  {
   "cell_type": "code",
   "execution_count": 6,
   "metadata": {},
   "outputs": [],
   "source": [
    "import numpy as np\n",
    "x_array, mtrue_array, utrue_array = np.array(df['x']), np.array(df['mtrue']), np.array(df['utrue'])\n",
    "forcing_array, dist_array = np.array(df['forcing']), np.array(df['distribution'])"
   ]
  },
  {
   "cell_type": "code",
   "execution_count": 9,
   "metadata": {},
   "outputs": [],
   "source": [
    "import torch\n",
    "omega = np.array(df['omega'])[0]\n",
    "from scipy.interpolate import interp1d\n",
    "true_solution = interp1d(x_array, utrue_array)\n",
    "true_forcing = interp1d(x_array, forcing_array)\n",
    "true_dist = interp1d(x_array, dist_array)\n",
    "omega = torch.tensor(omega, dtype=torch.float32)"
   ]
  }
 ],
 "metadata": {
  "kernelspec": {
   "display_name": "pytorch-py3.7",
   "language": "python",
   "name": "python3"
  },
  "language_info": {
   "codemirror_mode": {
    "name": "ipython",
    "version": 3
   },
   "file_extension": ".py",
   "mimetype": "text/x-python",
   "name": "python",
   "nbconvert_exporter": "python",
   "pygments_lexer": "ipython3",
   "version": "3.7.16"
  }
 },
 "nbformat": 4,
 "nbformat_minor": 2
}

{
 "cells": [
  {
   "cell_type": "markdown",
   "metadata": {},
   "source": [
    "# Dependencies"
   ]
  },
  {
   "cell_type": "code",
   "execution_count": 1,
   "metadata": {
    "tags": []
   },
   "outputs": [
    {
     "name": "stdout",
     "output_type": "stream",
     "text": [
      "Using device: cuda\n"
     ]
    }
   ],
   "source": [
    "import torch\n",
    "import torch.nn as nn\n",
    "import numpy as np\n",
    "import time\n",
    "import pandas as pd\n",
    "import os\n",
    "from pyDOE import lhs # Latin Hypercube Sampling\n",
    "\n",
    "# Check if CUDA is available, otherwise use CPU\n",
    "device = torch.device('cuda' if torch.cuda.is_available() else 'cpu')\n",
    "print(f\"Using device: {device}\")"
   ]
  },
  {
   "cell_type": "markdown",
   "metadata": {},
   "source": [
    "# Parameters and Import Data"
   ]
  },
  {
   "cell_type": "code",
   "execution_count": 2,
   "metadata": {
    "tags": []
   },
   "outputs": [],
   "source": [
    "file_path = os.getcwd()\n",
    "\n",
    "Nu = 256\n",
    "Nf = 1000\n",
    "a, b = 0.0, 1.0\n",
    "\n",
    "# Load True Solution and paramters\n",
    "df = pd.read_csv(f'{file_path}/synthetic_data/synthetic_data.csv')\n",
    "x_array, mtrue_array, utrue_array = np.array(df['x']), np.array(df['mtrue']), np.array(df['utrue'])\n",
    "forcing_array, dist_array = np.array(df['forcing']), np.array(df['distribution'])\n",
    "omega = np.array(df['omega'])[0]\n",
    "\n",
    "from scipy.interpolate import interp1d\n",
    "true_solution = interp1d(x_array, utrue_array)\n",
    "true_dist = interp1d(x_array, dist_array)\n",
    "true_forcing = interp1d(x_array, forcing_array)\n",
    "omega = torch.tensor(omega, dtype=torch.float32, device=device)"
   ]
  },
  {
   "cell_type": "markdown",
   "metadata": {},
   "source": [
    "# Set up Training Data"
   ]
  },
  {
   "cell_type": "code",
   "execution_count": 3,
   "metadata": {
    "tags": []
   },
   "outputs": [],
   "source": [
    "X_u_train = torch.linspace(a,b, Nu, dtype=torch.float32)[:, None]\n",
    "u_train = torch.tensor(true_solution(X_u_train), dtype=torch.float32)\n",
    "X_f_train = torch.tensor(lhs(1, Nf), dtype=torch.float32)\n",
    "dist_f_train = torch.tensor(true_dist(X_f_train), dtype=torch.float32)\n",
    "forcing_f_train = torch.tensor(true_forcing(X_f_train), dtype=torch.float32)\n",
    "\n",
    "# Move data to the selected device\n",
    "X_u_train = X_u_train.to(device)\n",
    "u_train = u_train.to(device)\n",
    "X_f_train = X_f_train.to(device)\n",
    "dist_f_train = dist_f_train.to(device)\n",
    "forcing_f_train = forcing_f_train.to(device)"
   ]
  },
  {
   "cell_type": "markdown",
   "metadata": {},
   "source": [
    "# Define Neural Network with Training Loop"
   ]
  },
  {
   "cell_type": "code",
   "execution_count": 4,
   "metadata": {
    "tags": []
   },
   "outputs": [],
   "source": [
    "class PINN(nn.Module):\n",
    "    def __init__(self, layers):\n",
    "        super(PINN, self).__init__()\n",
    "        self.layers = layers\n",
    "        self.num_layers = len(layers)\n",
    "        self.loss_function = nn.MSELoss()\n",
    "\n",
    "        # Neural Network\n",
    "        self.linears = nn.ModuleList([nn.Linear(layers[i], layers[i + 1]) for i in range(len(layers) - 1)])\n",
    "        self.linears_m = nn.ModuleList([nn.Linear(layers[i], layers[i + 1]) for i in range(len(layers) - 1)]) # separate NN for m since m varies spatially\n",
    "        self.activation = nn.Tanh()\n",
    "\n",
    "        # self.m = nn.Parameter(torch.tensor(0.1), requires_grad=True)\n",
    "        # self.m = torch.tensor(0.0, dtype=torch.float32)\n",
    "\n",
    "        # Xavier Initialization\n",
    "        for i in range(len(self.linears)):\n",
    "            nn.init.xavier_normal_(self.linears[i].weight.data, gain=1.0)\n",
    "            nn.init.xavier_normal_(self.linears_m[i].weight.data, gain=1.0)\n",
    "            if self.linears[i].bias is not None:\n",
    "                nn.init.zeros_(self.linears[i].bias.data)\n",
    "            if self.linears_m[i].bias is not None:\n",
    "                nn.init.zeros_(self.linears_m[i].bias.data)\n",
    "    \n",
    "    def forward(self, x):\n",
    "        # print(x.shape)\n",
    "        a_ = torch.tensor(a, dtype=torch.float32)\n",
    "        b_ = torch.tensor(b, dtype=torch.float32)\n",
    "        #preprocessing input \n",
    "        x = (x - a_)/(b_ - a_) #feature scaling\n",
    "        \n",
    "        identity1 = self.linears[0](x)\n",
    "        identity2 = self.linears[1](identity1)\n",
    "        for i, linear in enumerate(self.linears[:-1]):\n",
    "            x = self.activation(linear(x))\n",
    "            if i == self.num_layers - 2:\n",
    "                x += identity2\n",
    "            elif i == self.num_layers -1:\n",
    "                x += identity1\n",
    "        x = self.linears[-1](x)  # No activation on the last layer (u)\n",
    "        return x\n",
    "    \n",
    "    def m_compute(self, x):\n",
    "        # print(x.shape)\n",
    "        a_ = torch.tensor(a, dtype=torch.float32)\n",
    "        b_ = torch.tensor(b, dtype=torch.float32)\n",
    "        #preprocessing input \n",
    "        x = (x - a_)/(b_ - a_) #feature scaling\n",
    "        \n",
    "        identity1 = self.linears_m[0](x)\n",
    "        identity2 = self.linears_m[1](identity1)\n",
    "        for i, linear in enumerate(self.linears_m[:-1]):\n",
    "            x = self.activation(linear(x))\n",
    "            if i == self.num_layers - 2:\n",
    "                x += identity2\n",
    "            elif i == self.num_layers - 1:\n",
    "                x += identity1\n",
    "        x = self.linears_m[-1](x)  # No activation on the last layer (u)\n",
    "        return x\n",
    "    \n",
    "    def compute_loss(self, x_u, u_true, x_f):\n",
    "        x_f.requires_grad = True\n",
    "        # Calculate u from the network at boundary points and collocation points\n",
    "        u_f_pred = self.forward(x_f)\n",
    "        m_pred = self.m_compute(x_f)\n",
    "        \n",
    "        # Compute f (similar to TensorFlow implementation)\n",
    "        u_f_pred_grads = torch.autograd.grad(u_f_pred, x_f, grad_outputs=torch.ones_like(u_f_pred), retain_graph=True, create_graph=True)[0]\n",
    "        u_f_pred_xx = torch.autograd.grad(torch.exp(m_pred) * u_f_pred_grads, x_f, grad_outputs=torch.ones_like(u_f_pred_grads[:,[0]]), create_graph=True)[0]\n",
    "\n",
    "        rhs = forcing_f_train\n",
    "        # rhs = (torch.sin(2 * torch.pi * x_f)) \n",
    "\n",
    "\n",
    "        f_pred = - u_f_pred_xx + omega * dist_f_train * u_f_pred - rhs\n",
    "        # f_pred = - u_f_pred_xx + 10 * u_f_pred - rhs\n",
    "        \n",
    "        # Calculate the loss\n",
    "        loss_f = self.loss_function(f_pred, torch.zeros_like(f_pred)) # residual loss\n",
    "        u_pred = self.forward(x_u)\n",
    "        loss_u = self.loss_function(u_pred, u_true) # boundary loss\n",
    "        loss = loss_f + loss_u\n",
    "\n",
    "        return loss, loss_u, loss_f\n",
    "\n",
    "    def train(self, x_u, u_true, x_f, epochs, lr):\n",
    "        # Move model to the selected device\n",
    "        self.to(device) \n",
    "        # adam optimizer\n",
    "        optimizer = torch.optim.Adam(self.parameters(), lr=lr,betas=(0.9, 0.999), eps=1e-07)\n",
    "\n",
    "        for epoch in range(epochs): # loop over the dataset multiple times\n",
    "            optimizer.zero_grad()\n",
    "            loss, loss_u, loss_f = self.compute_loss(x_u, u_true, x_f)\n",
    "            loss.backward()\n",
    "            optimizer.step()\n",
    "            \n",
    "            if epoch % 500 == 0: # Print the loss every 100 epochs\n",
    "                print(f\"Epoch {epoch}, loss_misfit: {loss_u.item():1.2e}, loss_f: {loss_f.item():1.2e}, loss: {loss.item():1.2e}\")\n",
    "                # print(f\"Epoch {epoch}, loss_misfit: {loss_u.item():1.2e}, loss_f: {loss_f.item():1.2e}, loss: {loss.item():1.2e} , exp(m): {np.exp(self.m.item()):.5f}\")\n",
    "\n"
   ]
  },
  {
   "cell_type": "markdown",
   "metadata": {},
   "source": [
    "# Run Training Loop"
   ]
  },
  {
   "cell_type": "code",
   "execution_count": 5,
   "metadata": {
    "tags": []
   },
   "outputs": [
    {
     "name": "stderr",
     "output_type": "stream",
     "text": [
      "/g/g20/ho32/venv_PINN_FEM/lib/python3.9/site-packages/torch/autograd/graph.py:768: UserWarning: Attempting to run cuBLAS, but there was no current CUDA context! Attempting to set the primary context... (Triggered internally at ../aten/src/ATen/cuda/CublasHandlePool.cpp:135.)\n",
      "  return Variable._execution_engine.run_backward(  # Calls into the C++ engine to run the backward pass\n"
     ]
    },
    {
     "name": "stdout",
     "output_type": "stream",
     "text": [
      "Epoch 0, loss_misfit: 1.01e+00, loss_f: 1.46e+03, loss: 1.47e+03\n",
      "Epoch 500, loss_misfit: 6.50e+00, loss_f: 6.61e+02, loss: 6.67e+02\n",
      "Epoch 1000, loss_misfit: 1.32e+00, loss_f: 2.98e+00, loss: 4.31e+00\n",
      "Epoch 1500, loss_misfit: 1.01e+00, loss_f: 1.76e-01, loss: 1.19e+00\n",
      "Epoch 2000, loss_misfit: 9.25e-01, loss_f: 8.43e-02, loss: 1.01e+00\n",
      "Epoch 2500, loss_misfit: 8.73e-01, loss_f: 6.98e-02, loss: 9.43e-01\n",
      "Epoch 3000, loss_misfit: 8.28e-01, loss_f: 6.31e-02, loss: 8.91e-01\n",
      "Epoch 3500, loss_misfit: 7.86e-01, loss_f: 5.79e-02, loss: 8.44e-01\n",
      "Epoch 4000, loss_misfit: 7.46e-01, loss_f: 8.12e-02, loss: 8.27e-01\n",
      "Epoch 4500, loss_misfit: 7.07e-01, loss_f: 6.21e-02, loss: 7.69e-01\n",
      "Epoch 5000, loss_misfit: 6.67e-01, loss_f: 1.26e-01, loss: 7.93e-01\n",
      "Epoch 5500, loss_misfit: 6.28e-01, loss_f: 4.55e-02, loss: 6.73e-01\n",
      "Epoch 6000, loss_misfit: 5.89e-01, loss_f: 5.00e-02, loss: 6.39e-01\n",
      "Epoch 6500, loss_misfit: 5.51e-01, loss_f: 1.78e-01, loss: 7.29e-01\n",
      "Epoch 7000, loss_misfit: 5.15e-01, loss_f: 5.36e-01, loss: 1.05e+00\n",
      "Epoch 7500, loss_misfit: 4.77e-01, loss_f: 3.67e-02, loss: 5.13e-01\n",
      "Epoch 8000, loss_misfit: 4.43e-01, loss_f: 4.06e-02, loss: 4.83e-01\n",
      "Epoch 8500, loss_misfit: 4.12e-01, loss_f: 3.28e-02, loss: 4.44e-01\n",
      "Epoch 9000, loss_misfit: 3.85e-01, loss_f: 2.00e-01, loss: 5.84e-01\n",
      "Epoch 9500, loss_misfit: 3.60e-01, loss_f: 3.63e-02, loss: 3.96e-01\n",
      "Epoch 10000, loss_misfit: 3.39e-01, loss_f: 3.13e-02, loss: 3.71e-01\n",
      "Epoch 10500, loss_misfit: 3.23e-01, loss_f: 3.11e-02, loss: 3.54e-01\n",
      "Epoch 11000, loss_misfit: 3.09e-01, loss_f: 3.07e-02, loss: 3.40e-01\n",
      "Epoch 11500, loss_misfit: 3.00e-01, loss_f: 2.50e-01, loss: 5.49e-01\n",
      "Epoch 12000, loss_misfit: 2.90e-01, loss_f: 3.01e-02, loss: 3.20e-01\n",
      "Epoch 12500, loss_misfit: 2.84e-01, loss_f: 2.81e-02, loss: 3.12e-01\n",
      "Epoch 13000, loss_misfit: 2.79e-01, loss_f: 2.71e-02, loss: 3.06e-01\n",
      "Epoch 13500, loss_misfit: 2.76e-01, loss_f: 4.10e-02, loss: 3.17e-01\n",
      "Epoch 14000, loss_misfit: 2.74e-01, loss_f: 2.79e-01, loss: 5.53e-01\n",
      "Epoch 14500, loss_misfit: 2.70e-01, loss_f: 2.49e-02, loss: 2.95e-01\n",
      "Epoch 15000, loss_misfit: 2.69e-01, loss_f: 1.53e-01, loss: 4.22e-01\n",
      "Epoch 15500, loss_misfit: 2.67e-01, loss_f: 2.37e-02, loss: 2.91e-01\n",
      "Epoch 16000, loss_misfit: 2.66e-01, loss_f: 2.40e-02, loss: 2.90e-01\n",
      "Epoch 16500, loss_misfit: 2.65e-01, loss_f: 2.31e-02, loss: 2.88e-01\n",
      "Epoch 17000, loss_misfit: 2.64e-01, loss_f: 2.28e-02, loss: 2.87e-01\n",
      "Epoch 17500, loss_misfit: 2.63e-01, loss_f: 3.56e-02, loss: 2.98e-01\n"
     ]
    },
    {
     "ename": "KeyboardInterrupt",
     "evalue": "",
     "output_type": "error",
     "traceback": [
      "\u001b[0;31m---------------------------------------------------------------------------\u001b[0m",
      "\u001b[0;31mKeyboardInterrupt\u001b[0m                         Traceback (most recent call last)",
      "Input \u001b[0;32mIn [5]\u001b[0m, in \u001b[0;36m<module>\u001b[0;34m\u001b[0m\n\u001b[1;32m      5\u001b[0m learning_rate \u001b[38;5;241m=\u001b[39m \u001b[38;5;241m1e-4\u001b[39m\n\u001b[1;32m      7\u001b[0m start_time \u001b[38;5;241m=\u001b[39m time\u001b[38;5;241m.\u001b[39mtime()\n\u001b[0;32m----> 8\u001b[0m \u001b[43mmodel\u001b[49m\u001b[38;5;241;43m.\u001b[39;49m\u001b[43mtrain\u001b[49m\u001b[43m(\u001b[49m\u001b[43mX_u_train\u001b[49m\u001b[43m,\u001b[49m\u001b[43m \u001b[49m\u001b[43mu_train\u001b[49m\u001b[43m,\u001b[49m\u001b[43m \u001b[49m\u001b[43mX_f_train\u001b[49m\u001b[43m,\u001b[49m\u001b[43m \u001b[49m\u001b[43mepochs\u001b[49m\u001b[43m,\u001b[49m\u001b[43m \u001b[49m\u001b[43mlearning_rate\u001b[49m\u001b[43m)\u001b[49m\n\u001b[1;32m      9\u001b[0m Adam_time \u001b[38;5;241m=\u001b[39m time\u001b[38;5;241m.\u001b[39mtime() \u001b[38;5;241m-\u001b[39m start_time\n\u001b[1;32m     10\u001b[0m \u001b[38;5;28mprint\u001b[39m(\u001b[38;5;124m'\u001b[39m\u001b[38;5;124mTraining time: \u001b[39m\u001b[38;5;132;01m{:.4f}\u001b[39;00m\u001b[38;5;124m seconds\u001b[39m\u001b[38;5;124m'\u001b[39m\u001b[38;5;241m.\u001b[39mformat((Adam_time)))\n",
      "Input \u001b[0;32mIn [4]\u001b[0m, in \u001b[0;36mPINN.train\u001b[0;34m(self, x_u, u_true, x_f, epochs, lr)\u001b[0m\n\u001b[1;32m     93\u001b[0m optimizer\u001b[38;5;241m.\u001b[39mzero_grad()\n\u001b[1;32m     94\u001b[0m loss, loss_u, loss_f \u001b[38;5;241m=\u001b[39m \u001b[38;5;28mself\u001b[39m\u001b[38;5;241m.\u001b[39mcompute_loss(x_u, u_true, x_f)\n\u001b[0;32m---> 95\u001b[0m \u001b[43mloss\u001b[49m\u001b[38;5;241;43m.\u001b[39;49m\u001b[43mbackward\u001b[49m\u001b[43m(\u001b[49m\u001b[43m)\u001b[49m\n\u001b[1;32m     96\u001b[0m optimizer\u001b[38;5;241m.\u001b[39mstep()\n\u001b[1;32m     98\u001b[0m \u001b[38;5;28;01mif\u001b[39;00m epoch \u001b[38;5;241m%\u001b[39m \u001b[38;5;241m500\u001b[39m \u001b[38;5;241m==\u001b[39m \u001b[38;5;241m0\u001b[39m: \u001b[38;5;66;03m# Print the loss every 100 epochs\u001b[39;00m\n",
      "File \u001b[0;32m~/venv_PINN_FEM/lib/python3.9/site-packages/torch/_tensor.py:521\u001b[0m, in \u001b[0;36mTensor.backward\u001b[0;34m(self, gradient, retain_graph, create_graph, inputs)\u001b[0m\n\u001b[1;32m    511\u001b[0m \u001b[38;5;28;01mif\u001b[39;00m has_torch_function_unary(\u001b[38;5;28mself\u001b[39m):\n\u001b[1;32m    512\u001b[0m     \u001b[38;5;28;01mreturn\u001b[39;00m handle_torch_function(\n\u001b[1;32m    513\u001b[0m         Tensor\u001b[38;5;241m.\u001b[39mbackward,\n\u001b[1;32m    514\u001b[0m         (\u001b[38;5;28mself\u001b[39m,),\n\u001b[0;32m   (...)\u001b[0m\n\u001b[1;32m    519\u001b[0m         inputs\u001b[38;5;241m=\u001b[39minputs,\n\u001b[1;32m    520\u001b[0m     )\n\u001b[0;32m--> 521\u001b[0m \u001b[43mtorch\u001b[49m\u001b[38;5;241;43m.\u001b[39;49m\u001b[43mautograd\u001b[49m\u001b[38;5;241;43m.\u001b[39;49m\u001b[43mbackward\u001b[49m\u001b[43m(\u001b[49m\n\u001b[1;32m    522\u001b[0m \u001b[43m    \u001b[49m\u001b[38;5;28;43mself\u001b[39;49m\u001b[43m,\u001b[49m\u001b[43m \u001b[49m\u001b[43mgradient\u001b[49m\u001b[43m,\u001b[49m\u001b[43m \u001b[49m\u001b[43mretain_graph\u001b[49m\u001b[43m,\u001b[49m\u001b[43m \u001b[49m\u001b[43mcreate_graph\u001b[49m\u001b[43m,\u001b[49m\u001b[43m \u001b[49m\u001b[43minputs\u001b[49m\u001b[38;5;241;43m=\u001b[39;49m\u001b[43minputs\u001b[49m\n\u001b[1;32m    523\u001b[0m \u001b[43m\u001b[49m\u001b[43m)\u001b[49m\n",
      "File \u001b[0;32m~/venv_PINN_FEM/lib/python3.9/site-packages/torch/autograd/__init__.py:289\u001b[0m, in \u001b[0;36mbackward\u001b[0;34m(tensors, grad_tensors, retain_graph, create_graph, grad_variables, inputs)\u001b[0m\n\u001b[1;32m    284\u001b[0m     retain_graph \u001b[38;5;241m=\u001b[39m create_graph\n\u001b[1;32m    286\u001b[0m \u001b[38;5;66;03m# The reason we repeat the same comment below is that\u001b[39;00m\n\u001b[1;32m    287\u001b[0m \u001b[38;5;66;03m# some Python versions print out the first line of a multi-line function\u001b[39;00m\n\u001b[1;32m    288\u001b[0m \u001b[38;5;66;03m# calls in the traceback and some print out the last line\u001b[39;00m\n\u001b[0;32m--> 289\u001b[0m \u001b[43m_engine_run_backward\u001b[49m\u001b[43m(\u001b[49m\n\u001b[1;32m    290\u001b[0m \u001b[43m    \u001b[49m\u001b[43mtensors\u001b[49m\u001b[43m,\u001b[49m\n\u001b[1;32m    291\u001b[0m \u001b[43m    \u001b[49m\u001b[43mgrad_tensors_\u001b[49m\u001b[43m,\u001b[49m\n\u001b[1;32m    292\u001b[0m \u001b[43m    \u001b[49m\u001b[43mretain_graph\u001b[49m\u001b[43m,\u001b[49m\n\u001b[1;32m    293\u001b[0m \u001b[43m    \u001b[49m\u001b[43mcreate_graph\u001b[49m\u001b[43m,\u001b[49m\n\u001b[1;32m    294\u001b[0m \u001b[43m    \u001b[49m\u001b[43minputs\u001b[49m\u001b[43m,\u001b[49m\n\u001b[1;32m    295\u001b[0m \u001b[43m    \u001b[49m\u001b[43mallow_unreachable\u001b[49m\u001b[38;5;241;43m=\u001b[39;49m\u001b[38;5;28;43;01mTrue\u001b[39;49;00m\u001b[43m,\u001b[49m\n\u001b[1;32m    296\u001b[0m \u001b[43m    \u001b[49m\u001b[43maccumulate_grad\u001b[49m\u001b[38;5;241;43m=\u001b[39;49m\u001b[38;5;28;43;01mTrue\u001b[39;49;00m\u001b[43m,\u001b[49m\n\u001b[1;32m    297\u001b[0m \u001b[43m\u001b[49m\u001b[43m)\u001b[49m\n",
      "File \u001b[0;32m~/venv_PINN_FEM/lib/python3.9/site-packages/torch/autograd/graph.py:768\u001b[0m, in \u001b[0;36m_engine_run_backward\u001b[0;34m(t_outputs, *args, **kwargs)\u001b[0m\n\u001b[1;32m    766\u001b[0m     unregister_hooks \u001b[38;5;241m=\u001b[39m _register_logging_hooks_on_whole_graph(t_outputs)\n\u001b[1;32m    767\u001b[0m \u001b[38;5;28;01mtry\u001b[39;00m:\n\u001b[0;32m--> 768\u001b[0m     \u001b[38;5;28;01mreturn\u001b[39;00m \u001b[43mVariable\u001b[49m\u001b[38;5;241;43m.\u001b[39;49m\u001b[43m_execution_engine\u001b[49m\u001b[38;5;241;43m.\u001b[39;49m\u001b[43mrun_backward\u001b[49m\u001b[43m(\u001b[49m\u001b[43m  \u001b[49m\u001b[38;5;66;43;03m# Calls into the C++ engine to run the backward pass\u001b[39;49;00m\n\u001b[1;32m    769\u001b[0m \u001b[43m        \u001b[49m\u001b[43mt_outputs\u001b[49m\u001b[43m,\u001b[49m\u001b[43m \u001b[49m\u001b[38;5;241;43m*\u001b[39;49m\u001b[43margs\u001b[49m\u001b[43m,\u001b[49m\u001b[43m \u001b[49m\u001b[38;5;241;43m*\u001b[39;49m\u001b[38;5;241;43m*\u001b[39;49m\u001b[43mkwargs\u001b[49m\n\u001b[1;32m    770\u001b[0m \u001b[43m    \u001b[49m\u001b[43m)\u001b[49m  \u001b[38;5;66;03m# Calls into the C++ engine to run the backward pass\u001b[39;00m\n\u001b[1;32m    771\u001b[0m \u001b[38;5;28;01mfinally\u001b[39;00m:\n\u001b[1;32m    772\u001b[0m     \u001b[38;5;28;01mif\u001b[39;00m attach_logging_hooks:\n",
      "\u001b[0;31mKeyboardInterrupt\u001b[0m: "
     ]
    }
   ],
   "source": [
    "layers = [1, 50, 50, 50, 50, 50, 50, 1]\n",
    "model = PINN(layers)\n",
    "model.to(device)\n",
    "epochs = 50000\n",
    "learning_rate = 1e-4\n",
    "\n",
    "start_time = time.time()\n",
    "model.train(X_u_train, u_train, X_f_train, epochs, learning_rate)\n",
    "Adam_time = time.time() - start_time\n",
    "print('Training time: {:.4f} seconds'.format((Adam_time)))\n"
   ]
  },
  {
   "cell_type": "markdown",
   "metadata": {},
   "source": [
    "## LBFGS for Optimization Refinement"
   ]
  },
  {
   "cell_type": "code",
   "execution_count": 9,
   "metadata": {
    "tags": []
   },
   "outputs": [
    {
     "name": "stdout",
     "output_type": "stream",
     "text": [
      "LBFGS: Loss_misfit: 2.62e-01, loss_f: 2.24e-02, loss: 2.85e-01\n",
      "LBFGS: Loss_misfit: 2.62e-01, loss_f: 2.24e-02, loss: 2.85e-01\n",
      "LBFGS: Loss_misfit: 2.62e-01, loss_f: 2.24e-02, loss: 2.85e-01\n",
      "LBFGS: Loss_misfit: 2.62e-01, loss_f: 2.24e-02, loss: 2.85e-01\n",
      "LBFGS: Loss_misfit: 2.62e-01, loss_f: 2.24e-02, loss: 2.85e-01\n",
      "LBFGS: Loss_misfit: 2.62e-01, loss_f: 2.24e-02, loss: 2.85e-01\n",
      "LBFGS: Loss_misfit: 2.62e-01, loss_f: 2.24e-02, loss: 2.85e-01\n",
      "LBFGS: Loss_misfit: 2.62e-01, loss_f: 2.24e-02, loss: 2.85e-01\n",
      "LBFGS: Loss_misfit: 2.62e-01, loss_f: 2.24e-02, loss: 2.85e-01\n",
      "LBFGS: Loss_misfit: 2.62e-01, loss_f: 2.24e-02, loss: 2.85e-01\n",
      "LBFGS: Loss_misfit: 2.62e-01, loss_f: 2.24e-02, loss: 2.85e-01\n",
      "LBFGS: Loss_misfit: 2.62e-01, loss_f: 2.24e-02, loss: 2.85e-01\n",
      "LBFGS: Loss_misfit: 2.62e-01, loss_f: 2.24e-02, loss: 2.85e-01\n",
      "LBFGS: Loss_misfit: 2.62e-01, loss_f: 2.24e-02, loss: 2.85e-01\n",
      "LBFGS: Loss_misfit: 2.62e-01, loss_f: 2.24e-02, loss: 2.85e-01\n",
      "LBFGS: Loss_misfit: 2.62e-01, loss_f: 2.24e-02, loss: 2.85e-01\n",
      "LBFGS: Loss_misfit: 2.62e-01, loss_f: 2.24e-02, loss: 2.85e-01\n",
      "LBFGS: Loss_misfit: 2.62e-01, loss_f: 2.24e-02, loss: 2.85e-01\n",
      "LBFGS: Loss_misfit: 2.62e-01, loss_f: 2.24e-02, loss: 2.85e-01\n",
      "LBFGS: Loss_misfit: 2.62e-01, loss_f: 2.24e-02, loss: 2.85e-01\n",
      "LBFGS: Loss_misfit: 2.62e-01, loss_f: 2.24e-02, loss: 2.85e-01\n",
      "LBFGS: Loss_misfit: 2.62e-01, loss_f: 2.24e-02, loss: 2.85e-01\n",
      "LBFGS: Loss_misfit: 2.62e-01, loss_f: 2.24e-02, loss: 2.85e-01\n",
      "LBFGS: Loss_misfit: 2.62e-01, loss_f: 2.24e-02, loss: 2.85e-01\n",
      "LBFGS: Loss_misfit: 2.62e-01, loss_f: 2.24e-02, loss: 2.85e-01\n",
      "LBFGS: Loss_misfit: 2.62e-01, loss_f: 2.24e-02, loss: 2.85e-01\n",
      "LBFGS: Loss_misfit: 2.62e-01, loss_f: 2.24e-02, loss: 2.85e-01\n",
      "LBFGS: Loss_misfit: 2.62e-01, loss_f: 2.24e-02, loss: 2.85e-01\n",
      "LBFGS: Loss_misfit: 2.62e-01, loss_f: 2.24e-02, loss: 2.85e-01\n",
      "LBFGS: Loss_misfit: 2.62e-01, loss_f: 2.24e-02, loss: 2.85e-01\n",
      "LBFGS: Loss_misfit: 2.62e-01, loss_f: 2.24e-02, loss: 2.85e-01\n",
      "LBFGS: Loss_misfit: 2.62e-01, loss_f: 2.24e-02, loss: 2.85e-01\n",
      "LBFGS: Loss_misfit: 2.62e-01, loss_f: 2.24e-02, loss: 2.85e-01\n",
      "LBFGS: Loss_misfit: 2.62e-01, loss_f: 2.24e-02, loss: 2.85e-01\n",
      "LBFGS: Loss_misfit: 2.62e-01, loss_f: 2.24e-02, loss: 2.85e-01\n",
      "LBFGS: Loss_misfit: 2.62e-01, loss_f: 2.24e-02, loss: 2.85e-01\n",
      "LBFGS: Loss_misfit: 2.62e-01, loss_f: 2.24e-02, loss: 2.85e-01\n",
      "LBFGS: Loss_misfit: 2.62e-01, loss_f: 2.24e-02, loss: 2.85e-01\n",
      "LBFGS: Loss_misfit: 2.62e-01, loss_f: 2.24e-02, loss: 2.85e-01\n",
      "LBFGS: Loss_misfit: 2.62e-01, loss_f: 2.24e-02, loss: 2.85e-01\n",
      "LBFGS: Loss_misfit: 2.62e-01, loss_f: 2.24e-02, loss: 2.85e-01\n",
      "LBFGS: Loss_misfit: 2.62e-01, loss_f: 2.24e-02, loss: 2.85e-01\n",
      "LBFGS: Loss_misfit: 2.62e-01, loss_f: 2.24e-02, loss: 2.85e-01\n",
      "LBFGS: Loss_misfit: 2.62e-01, loss_f: 2.24e-02, loss: 2.85e-01\n",
      "LBFGS: Loss_misfit: 2.62e-01, loss_f: 2.24e-02, loss: 2.85e-01\n",
      "LBFGS: Loss_misfit: 2.62e-01, loss_f: 2.24e-02, loss: 2.85e-01\n",
      "LBFGS: Loss_misfit: 2.62e-01, loss_f: 2.24e-02, loss: 2.85e-01\n",
      "LBFGS: Loss_misfit: 2.62e-01, loss_f: 2.24e-02, loss: 2.85e-01\n",
      "LBFGS: Loss_misfit: 2.62e-01, loss_f: 2.24e-02, loss: 2.85e-01\n",
      "LBFGS: Loss_misfit: 2.62e-01, loss_f: 2.24e-02, loss: 2.85e-01\n",
      "LBFGS: Loss_misfit: 2.62e-01, loss_f: 2.24e-02, loss: 2.85e-01\n",
      "LBFGS: Loss_misfit: 2.62e-01, loss_f: 2.24e-02, loss: 2.85e-01\n",
      "LBFGS: Loss_misfit: 2.62e-01, loss_f: 2.24e-02, loss: 2.85e-01\n",
      "LBFGS: Loss_misfit: 2.62e-01, loss_f: 2.24e-02, loss: 2.85e-01\n",
      "LBFGS: Loss_misfit: 2.62e-01, loss_f: 2.24e-02, loss: 2.85e-01\n",
      "LBFGS: Loss_misfit: 2.62e-01, loss_f: 2.24e-02, loss: 2.85e-01\n",
      "LBFGS: Loss_misfit: 2.62e-01, loss_f: 2.24e-02, loss: 2.85e-01\n",
      "LBFGS: Loss_misfit: 2.62e-01, loss_f: 2.24e-02, loss: 2.85e-01\n",
      "LBFGS: Loss_misfit: 2.62e-01, loss_f: 2.24e-02, loss: 2.85e-01\n",
      "LBFGS: Loss_misfit: 2.62e-01, loss_f: 2.24e-02, loss: 2.85e-01\n",
      "LBFGS: Loss_misfit: 2.62e-01, loss_f: 2.24e-02, loss: 2.85e-01\n",
      "LBFGS: Loss_misfit: 2.62e-01, loss_f: 2.24e-02, loss: 2.85e-01\n",
      "LBFGS: Loss_misfit: 2.62e-01, loss_f: 2.24e-02, loss: 2.85e-01\n",
      "LBFGS: Loss_misfit: 2.62e-01, loss_f: 2.24e-02, loss: 2.85e-01\n",
      "LBFGS: Loss_misfit: 2.62e-01, loss_f: 2.24e-02, loss: 2.85e-01\n",
      "LBFGS: Loss_misfit: 2.62e-01, loss_f: 2.24e-02, loss: 2.85e-01\n",
      "LBFGS: Loss_misfit: 2.62e-01, loss_f: 2.24e-02, loss: 2.85e-01\n",
      "LBFGS: Loss_misfit: 2.62e-01, loss_f: 2.24e-02, loss: 2.85e-01\n",
      "LBFGS: Loss_misfit: 2.62e-01, loss_f: 2.24e-02, loss: 2.85e-01\n",
      "LBFGS: Loss_misfit: 2.62e-01, loss_f: 2.24e-02, loss: 2.85e-01\n",
      "LBFGS: Loss_misfit: 2.62e-01, loss_f: 2.24e-02, loss: 2.85e-01\n",
      "LBFGS: Loss_misfit: 2.62e-01, loss_f: 2.24e-02, loss: 2.85e-01\n",
      "LBFGS: Loss_misfit: 2.62e-01, loss_f: 2.24e-02, loss: 2.85e-01\n",
      "LBFGS: Loss_misfit: 2.62e-01, loss_f: 2.24e-02, loss: 2.85e-01\n",
      "LBFGS: Loss_misfit: 2.62e-01, loss_f: 2.24e-02, loss: 2.85e-01\n",
      "LBFGS: Loss_misfit: 2.62e-01, loss_f: 2.24e-02, loss: 2.85e-01\n",
      "LBFGS: Loss_misfit: 2.62e-01, loss_f: 2.24e-02, loss: 2.85e-01\n",
      "LBFGS: Loss_misfit: 2.62e-01, loss_f: 2.24e-02, loss: 2.85e-01\n",
      "LBFGS: Loss_misfit: 2.62e-01, loss_f: 2.24e-02, loss: 2.85e-01\n",
      "LBFGS: Loss_misfit: 2.62e-01, loss_f: 2.24e-02, loss: 2.85e-01\n",
      "LBFGS: Loss_misfit: 2.62e-01, loss_f: 2.24e-02, loss: 2.85e-01\n",
      "LBFGS: Loss_misfit: 2.62e-01, loss_f: 2.24e-02, loss: 2.85e-01\n",
      "LBFGS: Loss_misfit: 2.62e-01, loss_f: 2.24e-02, loss: 2.85e-01\n",
      "LBFGS: Loss_misfit: 2.62e-01, loss_f: 2.24e-02, loss: 2.85e-01\n",
      "LBFGS: Loss_misfit: 2.62e-01, loss_f: 2.24e-02, loss: 2.85e-01\n",
      "LBFGS: Loss_misfit: 2.62e-01, loss_f: 2.24e-02, loss: 2.85e-01\n",
      "LBFGS: Loss_misfit: 2.62e-01, loss_f: 2.24e-02, loss: 2.85e-01\n",
      "LBFGS: Loss_misfit: 2.62e-01, loss_f: 2.24e-02, loss: 2.85e-01\n",
      "LBFGS: Loss_misfit: 2.62e-01, loss_f: 2.24e-02, loss: 2.85e-01\n",
      "LBFGS: Loss_misfit: 2.62e-01, loss_f: 2.24e-02, loss: 2.85e-01\n",
      "LBFGS: Loss_misfit: 2.62e-01, loss_f: 2.24e-02, loss: 2.85e-01\n",
      "LBFGS: Loss_misfit: 2.62e-01, loss_f: 2.24e-02, loss: 2.85e-01\n",
      "LBFGS: Loss_misfit: 2.62e-01, loss_f: 2.24e-02, loss: 2.85e-01\n",
      "LBFGS: Loss_misfit: 2.62e-01, loss_f: 2.24e-02, loss: 2.85e-01\n",
      "LBFGS: Loss_misfit: 2.62e-01, loss_f: 2.24e-02, loss: 2.85e-01\n",
      "LBFGS: Loss_misfit: 2.62e-01, loss_f: 2.24e-02, loss: 2.85e-01\n",
      "LBFGS: Loss_misfit: 2.62e-01, loss_f: 2.24e-02, loss: 2.85e-01\n",
      "LBFGS: Loss_misfit: 2.62e-01, loss_f: 2.24e-02, loss: 2.85e-01\n",
      "LBFGS: Loss_misfit: 2.62e-01, loss_f: 2.24e-02, loss: 2.85e-01\n",
      "LBFGS: Loss_misfit: 2.62e-01, loss_f: 2.24e-02, loss: 2.85e-01\n",
      "LBFGS time: 9.5751 seconds\n"
     ]
    }
   ],
   "source": [
    "start_time1 = time.time()\n",
    "## L-BFGS\n",
    "optimizer = torch.optim.LBFGS(model.parameters(), lr=1, tolerance_grad=1e-10, history_size=100, line_search_fn=\"strong_wolfe\")\n",
    "def closure():\n",
    "    optimizer.zero_grad()\n",
    "    loss, loss_u, loss_f = model.compute_loss(X_u_train, u_train, X_f_train)\n",
    "    loss.backward()\n",
    "    return loss\n",
    "for lbfgs_iter in range(100):\n",
    "    optimizer.step(closure)\n",
    "    loss, loss_u, loss_f = model.compute_loss(X_u_train, u_train, X_f_train)\n",
    "    print(f\"LBFGS: Loss_misfit: {loss_u.item():1.2e}, loss_f: {loss_f.item():1.2e}, loss: {loss.item():1.2e}\")\n",
    "    # print(f\"LBFGS: Loss_misfit: {loss_u.item():1.2e}, loss_f: {loss_f.item():1.2e}, loss: {loss.item():1.2e} , exp(m): {np.exp(model.m.item()):.5f}\")\n",
    "LBFGS_time = time.time() - start_time1\n",
    "print('LBFGS time: {:.4f} seconds'.format((LBFGS_time)))"
   ]
  },
  {
   "cell_type": "markdown",
   "metadata": {},
   "source": [
    "# Plot Results"
   ]
  },
  {
   "cell_type": "code",
   "execution_count": 10,
   "metadata": {
    "tags": []
   },
   "outputs": [
    {
     "name": "stdout",
     "output_type": "stream",
     "text": [
      "MSE = 0.26214849948883057\n"
     ]
    },
    {
     "data": {
      "image/png": "[encoded data removed]",
      "text/plain": [
       "<Figure size 1080x259.2 with 3 Axes>"
      ]
     },
     "metadata": {
      "needs_background": "light"
     },
     "output_type": "display_data"
    }
   ],
   "source": [
    "import matplotlib.pyplot as plt\n",
    "\n",
    "# obtain results after training\n",
    "u = model.forward(X_u_train)\n",
    "m = model.m_compute(X_u_train)\n",
    "\n",
    "# error, error_label = np.sqrt(nmse(np.exp(m.compute_vertex_values()),  np.exp(mtrue_array))), 'NRMSE'\n",
    "fig, ax = plt.subplots(nrows=1, ncols=3, figsize=(15, 3.6)) \n",
    "ax[0].plot(X_u_train.cpu(),u_train.cpu(), '-', label=f'$u_d$: $n_x = {Nu}$', markersize=2, linewidth=2.5)\n",
    "ax[0].plot(X_u_train.cpu(),u.detach().cpu(), '--', label=r'$u_{sol}$', markersize=2, linewidth=2.5)\n",
    "# ax[0].plot(x, u_analytic, 'o', label=r'$A\\sin(2\\pi x)$', markersize=2, linewidth=2.5)\n",
    "ax[0].set_xlabel(r'$x$')\n",
    "ax[0].set_ylabel(r'$u$')\n",
    "ax[0].set_title(f'Data $u_d$ vs. Solution $u$: MSE = {loss_u.item():1.2e}', fontsize=15)\n",
    "ax[0].grid()\n",
    "ax[0].legend(fontsize=12)\n",
    "ax[1].plot(x_array, mtrue_array, '-', label=r'$m_{true}$', color='tab:blue', linewidth=2.5)\n",
    "# ax[1].plot(X_u_train,np.ones(Nu), '-', label=r'$m_{true}$', color='tab:blue', linewidth=2.5)\n",
    "ax[1].plot(X_u_train.cpu(),m.detach().cpu(), '--', label=r'$m_{sol}$', color='tab:red', linewidth=2.5)\n",
    "# ax[1].set_title(f'gamma = {gamma[kappa_min_ind]:.3e}')\n",
    "ax[1].set_xlabel(r'$x$')\n",
    "ax[1].set_ylabel(r'$m$')\n",
    "ax[1].set_title(f'Recovered vs. True Param', fontsize=15)\n",
    "ax[1].grid()\n",
    "ax[1].legend(fontsize=12)\n",
    "\n",
    "ax[2].plot(X_u_train.cpu(), abs(u_train.cpu() - u.detach().cpu()))\n",
    "# ax[2].plot(x, run.g_sun.compute_vertex_values())\n",
    "ax[2].set_title(f'Data Misfit: \\n $|u - u_d|$', fontsize=15)\n",
    "ax[2].set_xlabel(r'$x$')\n",
    "ax[2].set_ylabel(r'$|u_{sol} - u_d|$')\n",
    "ax[2].grid()\n",
    "\n",
    "print(f'MSE = {torch.mean((u_train.cpu() - u.detach().cpu())**2)}')\n",
    "# plt.savefig('Helm.png', dpi=300)\n",
    "plt.show()"
   ]
  },
  {
   "cell_type": "markdown",
   "metadata": {},
   "source": [
    "# Save Results"
   ]
  },
  {
   "cell_type": "code",
   "execution_count": 11,
   "metadata": {
    "tags": []
   },
   "outputs": [],
   "source": [
    "import sys\n",
    "sys.path.append('./../')\n",
    "from utils.general import increment_path"
   ]
  },
  {
   "cell_type": "code",
   "execution_count": 12,
   "metadata": {
    "tags": []
   },
   "outputs": [
    {
     "name": "stdout",
     "output_type": "stream",
     "text": [
      "True\n"
     ]
    }
   ],
   "source": [
    "dir_name = \"PINN_results\"\n",
    "path_ = f'./log/{dir_name}'\n",
    "save_path = increment_path(path_, mkdir=True)"
   ]
  },
  {
   "cell_type": "code",
   "execution_count": 13,
   "metadata": {
    "tags": []
   },
   "outputs": [
    {
     "ename": "NameError",
     "evalue": "name 'Adam_time' is not defined",
     "output_type": "error",
     "traceback": [
      "\u001b[0;31m---------------------------------------------------------------------------\u001b[0m",
      "\u001b[0;31mNameError\u001b[0m                                 Traceback (most recent call last)",
      "Input \u001b[0;32mIn [13]\u001b[0m, in \u001b[0;36m<module>\u001b[0;34m\u001b[0m\n\u001b[1;32m      1\u001b[0m results \u001b[38;5;241m=\u001b[39m {\n\u001b[0;32m----> 2\u001b[0m     \u001b[38;5;124m'\u001b[39m\u001b[38;5;124madam_runtime\u001b[39m\u001b[38;5;124m'\u001b[39m: \u001b[43mAdam_time\u001b[49m,\n\u001b[1;32m      3\u001b[0m     \u001b[38;5;124m'\u001b[39m\u001b[38;5;124mlbfgs_runtime\u001b[39m\u001b[38;5;124m'\u001b[39m: LBFGS_time,\n\u001b[1;32m      4\u001b[0m     \u001b[38;5;124m'\u001b[39m\u001b[38;5;124mx_u_train\u001b[39m\u001b[38;5;124m'\u001b[39m: X_u_train\u001b[38;5;241m.\u001b[39mcpu()\u001b[38;5;241m.\u001b[39mtolist(),\n\u001b[1;32m      5\u001b[0m     \u001b[38;5;124m'\u001b[39m\u001b[38;5;124mu_train\u001b[39m\u001b[38;5;124m'\u001b[39m: u_train\u001b[38;5;241m.\u001b[39mcpu()\u001b[38;5;241m.\u001b[39mtolist(),\n\u001b[1;32m      6\u001b[0m     \u001b[38;5;124m'\u001b[39m\u001b[38;5;124mu_sol\u001b[39m\u001b[38;5;124m'\u001b[39m: u\u001b[38;5;241m.\u001b[39mdetach()\u001b[38;5;241m.\u001b[39mcpu()\u001b[38;5;241m.\u001b[39mtolist(),\n\u001b[1;32m      7\u001b[0m     \u001b[38;5;124m'\u001b[39m\u001b[38;5;124mm_sol\u001b[39m\u001b[38;5;124m'\u001b[39m: m\u001b[38;5;241m.\u001b[39mdetach()\u001b[38;5;241m.\u001b[39mcpu()\u001b[38;5;241m.\u001b[39mtolist(),\n\u001b[1;32m      8\u001b[0m     \u001b[38;5;124m'\u001b[39m\u001b[38;5;124mx_for_m_true\u001b[39m\u001b[38;5;124m'\u001b[39m: x_array\u001b[38;5;241m.\u001b[39mtolist(),\n\u001b[1;32m      9\u001b[0m     \u001b[38;5;124m'\u001b[39m\u001b[38;5;124mm_true\u001b[39m\u001b[38;5;124m'\u001b[39m: mtrue_array\u001b[38;5;241m.\u001b[39mtolist(),\n\u001b[1;32m     10\u001b[0m }\n",
      "\u001b[0;31mNameError\u001b[0m: name 'Adam_time' is not defined"
     ]
    }
   ],
   "source": [
    "results = {\n",
    "    'adam_runtime': Adam_time,\n",
    "    'lbfgs_runtime': LBFGS_time,\n",
    "    'x_u_train': X_u_train.cpu().tolist(),\n",
    "    'u_train': u_train.cpu().tolist(),\n",
    "    'u_sol': u.detach().cpu().tolist(),\n",
    "    'm_sol': m.detach().cpu().tolist(),\n",
    "    'x_for_m_true': x_array.tolist(),\n",
    "    'm_true': mtrue_array.tolist(),\n",
    "}"
   ]
  },
  {
   "cell_type": "code",
   "execution_count": 48,
   "metadata": {
    "tags": []
   },
   "outputs": [],
   "source": [
    "with open(f'{save_path}/results.json', 'w') as f:\n",
    "    json.dump(results, f, indent=2)"
   ]
  },
  {
   "cell_type": "code",
   "execution_count": 42,
   "metadata": {
    "tags": []
   },
   "outputs": [],
   "source": [
    "torch.save(model.state_dict(),f'{save_path}/model.pt')"
   ]
  }
 ],
 "metadata": {
  "kernelspec": {
   "display_name": "FEM_PINN_kernel",
   "language": "python",
   "name": "fem_pinn_kernel"
  },
  "language_info": {
   "codemirror_mode": {
    "name": "ipython",
    "version": 3
   },
   "file_extension": ".py",
   "mimetype": "text/x-python",
   "name": "python",
   "nbconvert_exporter": "python",
   "pygments_lexer": "ipython3",
   "version": "3.9.12"
  }
 },
 "nbformat": 4,
 "nbformat_minor": 4
}
